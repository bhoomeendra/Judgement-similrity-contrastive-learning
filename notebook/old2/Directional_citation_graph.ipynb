{
 "cells": [
  {
   "cell_type": "code",
   "execution_count": 5,
   "id": "857667d1-f8b1-4c87-9fa3-f25db2f8ca23",
   "metadata": {},
   "outputs": [],
   "source": [
    "import pickle\n",
    "import json\n",
    "paths = open('../data/processed/paths.json','rb')\n",
    "path = json.load(paths)\n",
    "file = open(path['jud_path'],'rb')\n",
    "judg = pickle.load(file)"
   ]
  },
  {
   "cell_type": "code",
   "execution_count": 8,
   "id": "270b8095-5e6e-419e-ac4c-e68b6091926e",
   "metadata": {},
   "outputs": [],
   "source": [
    "nodes = list(judg.keys())"
   ]
  },
  {
   "cell_type": "code",
   "execution_count": 10,
   "id": "45cb324f-351a-420b-b966-c879e37b88a0",
   "metadata": {},
   "outputs": [
    {
     "data": {
      "text/plain": [
       "{'1502896', '521161', '806441'}"
      ]
     },
     "execution_count": 10,
     "metadata": {},
     "output_type": "execute_result"
    }
   ],
   "source": [
    "judg[nodes[0]]['citation_sc']"
   ]
  },
  {
   "cell_type": "code",
   "execution_count": 11,
   "id": "ebb290ad-f1fd-4469-a98d-ec7641f77d7f",
   "metadata": {},
   "outputs": [],
   "source": [
    "edges = []\n",
    "for jid in nodes:\n",
    "    for cid in judg[jid]['citation_sc']:\n",
    "        edges.append((jid,cid))"
   ]
  },
  {
   "cell_type": "code",
   "execution_count": 12,
   "id": "670beb39-8daa-48b0-8f28-11bd03249f35",
   "metadata": {},
   "outputs": [
    {
     "data": {
      "text/plain": [
       "132984"
      ]
     },
     "execution_count": 12,
     "metadata": {},
     "output_type": "execute_result"
    }
   ],
   "source": [
    "len(edges)"
   ]
  },
  {
   "cell_type": "markdown",
   "id": "1383d88d-9805-4bab-80a9-a68ad259bc31",
   "metadata": {},
   "source": [
    "### Sampleling methods for negative pairs\n",
    "\n",
    "1. More that distance 3 or 4 is a -ve sample\n",
    "2. At distance 2 but in unidirection in nature i.e a-->b-->c then probably a and c are not relevant to each other but if a-->b and c-->b the there is a higher chance that a and c are related.\n"
   ]
  },
  {
   "cell_type": "code",
   "execution_count": null,
   "id": "2062dc6a-63eb-44ec-9ac7-333c4d363857",
   "metadata": {},
   "outputs": [],
   "source": [
    "import net"
   ]
  }
 ],
 "metadata": {
  "kernelspec": {
   "display_name": "Python 3 (ipykernel)",
   "language": "python",
   "name": "python3"
  },
  "language_info": {
   "codemirror_mode": {
    "name": "ipython",
    "version": 3
   },
   "file_extension": ".py",
   "mimetype": "text/x-python",
   "name": "python",
   "nbconvert_exporter": "python",
   "pygments_lexer": "ipython3",
   "version": "3.9.16"
  }
 },
 "nbformat": 4,
 "nbformat_minor": 5
}
