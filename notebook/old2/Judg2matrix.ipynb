{
 "cells": [
  {
   "cell_type": "code",
   "execution_count": 1,
   "id": "5a99147d-324b-42f5-9f09-39b0f79790bf",
   "metadata": {},
   "outputs": [],
   "source": [
    "import pickle\n",
    "tfidf_model = pickle.load(open('../data/processed/Text_Models/tfidf_max_df_0.5','rb'))"
   ]
  },
  {
   "cell_type": "code",
   "execution_count": 2,
   "id": "10b48e83-45aa-44b5-a5a9-767be36b4f4f",
   "metadata": {},
   "outputs": [],
   "source": [
    "w2v_model = pickle.load(open('../data/processed/Text_Models/w2v_model.pkl','rb'))"
   ]
  },
  {
   "cell_type": "code",
   "execution_count": 3,
   "id": "3f17c47e-5872-44f1-a036-9c909fa85d15",
   "metadata": {},
   "outputs": [
    {
     "data": {
      "text/plain": [
       "86763"
      ]
     },
     "execution_count": 3,
     "metadata": {},
     "output_type": "execute_result"
    }
   ],
   "source": [
    "len(w2v_model.wv.index_to_key)"
   ]
  },
  {
   "cell_type": "code",
   "execution_count": 4,
   "id": "6b7858ea-6bdf-4328-9ba0-ef0ea587e691",
   "metadata": {},
   "outputs": [
    {
     "data": {
      "text/plain": [
       "316783"
      ]
     },
     "execution_count": 4,
     "metadata": {},
     "output_type": "execute_result"
    }
   ],
   "source": [
    "len(tfidf_model.vocabulary_)"
   ]
  },
  {
   "cell_type": "code",
   "execution_count": 5,
   "id": "b4603ec8-6c3e-4fd0-9089-9650651a195b",
   "metadata": {},
   "outputs": [
    {
     "name": "stdout",
     "output_type": "stream",
     "text": [
      "74194 86763 316783\n"
     ]
    }
   ],
   "source": [
    "import numpy as np\n",
    "vocab = set(w2v_model.wv.index_to_key)\n",
    "tf_idf_vocab = set(tfidf_model.vocabulary_.keys())\n",
    "\n",
    "print(len(vocab.intersection(tf_idf_vocab)),len(vocab),len(tf_idf_vocab))\n",
    "def get_idf_score(word):\n",
    "    \n",
    "    if word in tf_idf_vocab:\n",
    "        idx = tfidf_model.vocabulary_[word]\n",
    "        return tfidf_model.idf_[idx]\n",
    "    return 0.5\n",
    "\n",
    "def get_vector_w2v_model(text):\n",
    "\n",
    "    vec_size = w2v_model.wv.vectors.shape[1]\n",
    "    vectors_em = np.zeros(shape = (len(text),vec_size))\n",
    "    for idx,para in enumerate(text):\n",
    "        counter = 0\n",
    "        rem = 0\n",
    "        vec = np.zeros(vec_size)\n",
    "        for word in para.split(' '):\n",
    "                if word in vocab:\n",
    "                    vec += w2v_model.wv.get_vector(word)\n",
    "                    # counter +=1\n",
    "                else:\n",
    "                    rem+=1\n",
    "        if counter != 0:\n",
    "            vectors_em[idx,:] = vec\n",
    "            # print(counter,rem,end=',')\n",
    "    # print()\n",
    "    return vectors_em\n",
    "\n",
    "def tfidf_weight_w2v_model(text):\n",
    "    # print(\"Using: Idf_w2v\")\n",
    "    vec_size = w2v_model.wv.vectors.shape[1]\n",
    "    vectors_em = np.zeros(shape = (len(text),vec_size))\n",
    "    for idx,para in enumerate(text):\n",
    "        counter = 0\n",
    "        rem = 0\n",
    "        vec = np.zeros(vec_size)\n",
    "        for word in para.split(' '):\n",
    "                if word in vocab:\n",
    "                    idf_score = get_idf_score(word)\n",
    "                    vec += idf_score*w2v_model.wv.get_vector(word)\n",
    "                    counter +=1\n",
    "                else:\n",
    "                    rem+=1\n",
    "        if counter != 0:\n",
    "            vectors_em[idx,:] = vec\n",
    "            # print(counter,rem,end=',')\n",
    "    # print()\n",
    "    return vectors_em\n",
    "\n",
    "def tfidf_matrix(paras):\n",
    "    return tfidf_model.transform(paras)\n",
    "    "
   ]
  },
  {
   "cell_type": "markdown",
   "id": "84cf8a29-f712-408e-a9bd-9ce0e9406ed1",
   "metadata": {},
   "source": [
    "### Input prep"
   ]
  },
  {
   "cell_type": "code",
   "execution_count": 6,
   "id": "f46a4bac-11be-47c6-924e-b2a959138075",
   "metadata": {},
   "outputs": [
    {
     "name": "stderr",
     "output_type": "stream",
     "text": [
      "100%|████████████████████████████████████| 53897/53897 [02:29<00:00, 360.14it/s]\n"
     ]
    }
   ],
   "source": [
    "from glob import glob\n",
    "from tqdm import tqdm\n",
    "docs = []\n",
    "for path in tqdm(glob(\"../data/processed/processed_judgements/*\")):\n",
    "    docs.append((open(path).read(), path.split('/')[-1].split('.')[0]))"
   ]
  },
  {
   "cell_type": "code",
   "execution_count": 19,
   "id": "f7b9eb5b-6c79-43d2-9e6c-23397f3e45c9",
   "metadata": {},
   "outputs": [],
   "source": [
    "method_name = 'w2v_idf' #  tfidf , w2v , w2v_idf\n",
    "def get_matrix(inputs):\n",
    "    '''\n",
    "    Text   : is a list of string can be a single string\n",
    "    Method : Method to be used for vetorization\n",
    "    '''\n",
    "    text,jid = inputs\n",
    "    text = text.split('\\n')\n",
    "    out = None\n",
    "    if method_name=='tfidf':\n",
    "        out = tfidf_matrix(text)\n",
    "    elif method_name=='w2v':\n",
    "        out = get_vector_w2v_model(text)\n",
    "    elif method_name=='w2v_idf':\n",
    "        out = tfidf_weight_w2v_model(text)\n",
    "    path = f'../data/processed/paragraph_matrix/{method_name}/{jid}.pkl'\n",
    "    file = open(path,'wb')\n",
    "    pickle.dump(out,file)\n",
    "    file.close()"
   ]
  },
  {
   "cell_type": "code",
   "execution_count": 20,
   "id": "6b33bf2e-2b0d-49f1-adb9-9f8b25a7dfbb",
   "metadata": {},
   "outputs": [
    {
     "data": {
      "text/plain": [
       "'134092'"
      ]
     },
     "execution_count": 20,
     "metadata": {},
     "output_type": "execute_result"
    }
   ],
   "source": [
    "docs[0][1]"
   ]
  },
  {
   "cell_type": "code",
   "execution_count": 21,
   "id": "ca3c802f-f054-4a94-9c6f-159053d1de34",
   "metadata": {},
   "outputs": [
    {
     "data": {
      "text/plain": [
       "'w2v_idf'"
      ]
     },
     "execution_count": 21,
     "metadata": {},
     "output_type": "execute_result"
    }
   ],
   "source": [
    "method_name"
   ]
  },
  {
   "cell_type": "code",
   "execution_count": 22,
   "id": "6de08ab8-666a-48e6-a4f0-d09ad5b77536",
   "metadata": {
    "tags": []
   },
   "outputs": [
    {
     "name": "stdout",
     "output_type": "stream",
     "text": [
      "2023-01-22 20:36:50.119513\n",
      "40\n"
     ]
    },
    {
     "name": "stderr",
     "output_type": "stream",
     "text": [
      "Process ForkPoolWorker-43:\n",
      "Process ForkPoolWorker-80:\n",
      "Process ForkPoolWorker-78:\n",
      "Process ForkPoolWorker-42:\n",
      "Process ForkPoolWorker-53:\n",
      "Process ForkPoolWorker-60:\n",
      "Process ForkPoolWorker-68:\n",
      "Process ForkPoolWorker-58:\n",
      "Process ForkPoolWorker-48:\n",
      "Process ForkPoolWorker-45:\n",
      "Process ForkPoolWorker-76:\n",
      "Process ForkPoolWorker-55:\n",
      "Process ForkPoolWorker-64:\n",
      "Process ForkPoolWorker-47:\n",
      "Process ForkPoolWorker-57:\n",
      "Process ForkPoolWorker-75:\n",
      "Process ForkPoolWorker-73:\n",
      "Process ForkPoolWorker-50:\n",
      "Process ForkPoolWorker-77:\n",
      "Process ForkPoolWorker-72:\n",
      "Process ForkPoolWorker-54:\n",
      "Process ForkPoolWorker-66:\n",
      "Process ForkPoolWorker-62:\n",
      "Process ForkPoolWorker-41:\n",
      "Process ForkPoolWorker-56:\n",
      "Process ForkPoolWorker-67:\n",
      "Process ForkPoolWorker-74:\n",
      "Process ForkPoolWorker-44:\n",
      "Process ForkPoolWorker-69:\n",
      "Process ForkPoolWorker-70:\n",
      "Process ForkPoolWorker-49:\n",
      "Process ForkPoolWorker-51:\n",
      "Process ForkPoolWorker-46:\n",
      "Process ForkPoolWorker-63:\n",
      "Process ForkPoolWorker-79:\n",
      "Process ForkPoolWorker-59:\n",
      "Process ForkPoolWorker-71:\n",
      "Process ForkPoolWorker-52:\n",
      "Process ForkPoolWorker-61:\n",
      "Process ForkPoolWorker-65:\n"
     ]
    },
    {
     "ename": "KeyboardInterrupt",
     "evalue": "",
     "output_type": "error",
     "traceback": [
      "\u001b[0;31m---------------------------------------------------------------------------\u001b[0m",
      "\u001b[0;31mKeyboardInterrupt\u001b[0m                         Traceback (most recent call last)",
      "Cell \u001b[0;32mIn[22], line 11\u001b[0m\n\u001b[1;32m      9\u001b[0m \u001b[38;5;28mprint\u001b[39m(workers)\n\u001b[1;32m     10\u001b[0m \u001b[38;5;28;01mwith\u001b[39;00m Pool(workers) \u001b[38;5;28;01mas\u001b[39;00m p:\n\u001b[0;32m---> 11\u001b[0m         \u001b[43mp\u001b[49m\u001b[38;5;241;43m.\u001b[39;49m\u001b[43mmap\u001b[49m\u001b[43m(\u001b[49m\u001b[43mget_matrix\u001b[49m\u001b[43m,\u001b[49m\u001b[43m \u001b[49m\u001b[43mdocs\u001b[49m\u001b[43m)\u001b[49m\n",
      "File \u001b[0;32m~/localpython/python3.9.16/lib/python3.9/multiprocessing/pool.py:364\u001b[0m, in \u001b[0;36mPool.map\u001b[0;34m(self, func, iterable, chunksize)\u001b[0m\n\u001b[1;32m    359\u001b[0m \u001b[38;5;28;01mdef\u001b[39;00m \u001b[38;5;21mmap\u001b[39m(\u001b[38;5;28mself\u001b[39m, func, iterable, chunksize\u001b[38;5;241m=\u001b[39m\u001b[38;5;28;01mNone\u001b[39;00m):\n\u001b[1;32m    360\u001b[0m     \u001b[38;5;124;03m'''\u001b[39;00m\n\u001b[1;32m    361\u001b[0m \u001b[38;5;124;03m    Apply `func` to each element in `iterable`, collecting the results\u001b[39;00m\n\u001b[1;32m    362\u001b[0m \u001b[38;5;124;03m    in a list that is returned.\u001b[39;00m\n\u001b[1;32m    363\u001b[0m \u001b[38;5;124;03m    '''\u001b[39;00m\n\u001b[0;32m--> 364\u001b[0m     \u001b[38;5;28;01mreturn\u001b[39;00m \u001b[38;5;28;43mself\u001b[39;49m\u001b[38;5;241;43m.\u001b[39;49m\u001b[43m_map_async\u001b[49m\u001b[43m(\u001b[49m\u001b[43mfunc\u001b[49m\u001b[43m,\u001b[49m\u001b[43m \u001b[49m\u001b[43miterable\u001b[49m\u001b[43m,\u001b[49m\u001b[43m \u001b[49m\u001b[43mmapstar\u001b[49m\u001b[43m,\u001b[49m\u001b[43m \u001b[49m\u001b[43mchunksize\u001b[49m\u001b[43m)\u001b[49m\u001b[38;5;241;43m.\u001b[39;49m\u001b[43mget\u001b[49m\u001b[43m(\u001b[49m\u001b[43m)\u001b[49m\n",
      "File \u001b[0;32m~/localpython/python3.9.16/lib/python3.9/multiprocessing/pool.py:765\u001b[0m, in \u001b[0;36mApplyResult.get\u001b[0;34m(self, timeout)\u001b[0m\n\u001b[1;32m    764\u001b[0m \u001b[38;5;28;01mdef\u001b[39;00m \u001b[38;5;21mget\u001b[39m(\u001b[38;5;28mself\u001b[39m, timeout\u001b[38;5;241m=\u001b[39m\u001b[38;5;28;01mNone\u001b[39;00m):\n\u001b[0;32m--> 765\u001b[0m     \u001b[38;5;28;43mself\u001b[39;49m\u001b[38;5;241;43m.\u001b[39;49m\u001b[43mwait\u001b[49m\u001b[43m(\u001b[49m\u001b[43mtimeout\u001b[49m\u001b[43m)\u001b[49m\n\u001b[1;32m    766\u001b[0m     \u001b[38;5;28;01mif\u001b[39;00m \u001b[38;5;129;01mnot\u001b[39;00m \u001b[38;5;28mself\u001b[39m\u001b[38;5;241m.\u001b[39mready():\n\u001b[1;32m    767\u001b[0m         \u001b[38;5;28;01mraise\u001b[39;00m \u001b[38;5;167;01mTimeoutError\u001b[39;00m\n",
      "File \u001b[0;32m~/localpython/python3.9.16/lib/python3.9/multiprocessing/pool.py:762\u001b[0m, in \u001b[0;36mApplyResult.wait\u001b[0;34m(self, timeout)\u001b[0m\n\u001b[1;32m    761\u001b[0m \u001b[38;5;28;01mdef\u001b[39;00m \u001b[38;5;21mwait\u001b[39m(\u001b[38;5;28mself\u001b[39m, timeout\u001b[38;5;241m=\u001b[39m\u001b[38;5;28;01mNone\u001b[39;00m):\n\u001b[0;32m--> 762\u001b[0m     \u001b[38;5;28;43mself\u001b[39;49m\u001b[38;5;241;43m.\u001b[39;49m\u001b[43m_event\u001b[49m\u001b[38;5;241;43m.\u001b[39;49m\u001b[43mwait\u001b[49m\u001b[43m(\u001b[49m\u001b[43mtimeout\u001b[49m\u001b[43m)\u001b[49m\n",
      "File \u001b[0;32m~/localpython/python3.9.16/lib/python3.9/threading.py:581\u001b[0m, in \u001b[0;36mEvent.wait\u001b[0;34m(self, timeout)\u001b[0m\n\u001b[1;32m    579\u001b[0m signaled \u001b[38;5;241m=\u001b[39m \u001b[38;5;28mself\u001b[39m\u001b[38;5;241m.\u001b[39m_flag\n\u001b[1;32m    580\u001b[0m \u001b[38;5;28;01mif\u001b[39;00m \u001b[38;5;129;01mnot\u001b[39;00m signaled:\n\u001b[0;32m--> 581\u001b[0m     signaled \u001b[38;5;241m=\u001b[39m \u001b[38;5;28;43mself\u001b[39;49m\u001b[38;5;241;43m.\u001b[39;49m\u001b[43m_cond\u001b[49m\u001b[38;5;241;43m.\u001b[39;49m\u001b[43mwait\u001b[49m\u001b[43m(\u001b[49m\u001b[43mtimeout\u001b[49m\u001b[43m)\u001b[49m\n\u001b[1;32m    582\u001b[0m \u001b[38;5;28;01mreturn\u001b[39;00m signaled\n",
      "File \u001b[0;32m~/localpython/python3.9.16/lib/python3.9/threading.py:312\u001b[0m, in \u001b[0;36mCondition.wait\u001b[0;34m(self, timeout)\u001b[0m\n\u001b[1;32m    310\u001b[0m \u001b[38;5;28;01mtry\u001b[39;00m:    \u001b[38;5;66;03m# restore state no matter what (e.g., KeyboardInterrupt)\u001b[39;00m\n\u001b[1;32m    311\u001b[0m     \u001b[38;5;28;01mif\u001b[39;00m timeout \u001b[38;5;129;01mis\u001b[39;00m \u001b[38;5;28;01mNone\u001b[39;00m:\n\u001b[0;32m--> 312\u001b[0m         \u001b[43mwaiter\u001b[49m\u001b[38;5;241;43m.\u001b[39;49m\u001b[43macquire\u001b[49m\u001b[43m(\u001b[49m\u001b[43m)\u001b[49m\n\u001b[1;32m    313\u001b[0m         gotit \u001b[38;5;241m=\u001b[39m \u001b[38;5;28;01mTrue\u001b[39;00m\n\u001b[1;32m    314\u001b[0m     \u001b[38;5;28;01melse\u001b[39;00m:\n",
      "\u001b[0;31mKeyboardInterrupt\u001b[0m: "
     ]
    }
   ],
   "source": [
    "import os\n",
    "from multiprocessing import Pool\n",
    "from datetime import datetime\n",
    "\n",
    "now = datetime.now()\n",
    "print(now)\n",
    "preped_text = []\n",
    "workers = os.cpu_count()\n",
    "print(workers)\n",
    "with Pool(workers) as p:\n",
    "        p.map(get_matrix, docs)"
   ]
  },
  {
   "cell_type": "code",
   "execution_count": null,
   "id": "797b6841-7f57-47c0-99d2-f5fbcf6cec3f",
   "metadata": {},
   "outputs": [],
   "source": [
    "print(datetime.now())"
   ]
  },
  {
   "cell_type": "markdown",
   "id": "06b242f3-31b4-43fe-b96c-98a355655f04",
   "metadata": {},
   "source": [
    "### Combine"
   ]
  },
  {
   "cell_type": "code",
   "execution_count": null,
   "id": "3e315295-ffd0-41bb-9fa3-b5a8ba206998",
   "metadata": {},
   "outputs": [],
   "source": [
    "matrix_map = dict()\n",
    "for path in tqdm(glob(f'../data/processed/paragraph_matrix/{method_name}/*')):\n",
    "    key = path.split('/')[-1].split('.')[0]\n",
    "    matrix_map[key] = pickle.load(open(path,'rb'))"
   ]
  },
  {
   "cell_type": "code",
   "execution_count": null,
   "id": "59e50140-6f5f-4ac4-a83b-5ee6c2d8b0f4",
   "metadata": {},
   "outputs": [],
   "source": [
    "file = open(f'../data/processed/paragraph_matrix/{method_name}.pkl','wb')\n",
    "pickle.dump(matrix_map,file)"
   ]
  },
  {
   "cell_type": "code",
   "execution_count": null,
   "id": "f953a40a-569c-4a30-b083-3f909a221995",
   "metadata": {},
   "outputs": [],
   "source": [
    "file.close()"
   ]
  },
  {
   "cell_type": "code",
   "execution_count": null,
   "id": "6dc64c0b-2091-48bd-a182-4285333800f6",
   "metadata": {},
   "outputs": [],
   "source": [
    "del matrix_map"
   ]
  },
  {
   "cell_type": "code",
   "execution_count": null,
   "id": "dbf4eb0a-b6e3-436a-9067-f4ff941c0578",
   "metadata": {},
   "outputs": [],
   "source": [
    "import gc\n",
    "gc.collect()"
   ]
  },
  {
   "cell_type": "code",
   "execution_count": null,
   "id": "a67519a6-ebc1-43bf-941c-085ff9fc5e05",
   "metadata": {},
   "outputs": [],
   "source": []
  }
 ],
 "metadata": {
  "kernelspec": {
   "display_name": "Python 3 (ipykernel)",
   "language": "python",
   "name": "python3"
  },
  "language_info": {
   "codemirror_mode": {
    "name": "ipython",
    "version": 3
   },
   "file_extension": ".py",
   "mimetype": "text/x-python",
   "name": "python",
   "nbconvert_exporter": "python",
   "pygments_lexer": "ipython3",
   "version": "3.9.16"
  }
 },
 "nbformat": 4,
 "nbformat_minor": 5
}
