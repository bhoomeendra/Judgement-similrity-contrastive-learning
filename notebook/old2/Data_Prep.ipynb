{
 "cells": [
  {
   "cell_type": "code",
   "execution_count": 1,
   "id": "98f9caa2-ba18-40be-a09b-ce4307b97082",
   "metadata": {},
   "outputs": [],
   "source": [
    "import re\n",
    "from nltk.corpus import stopwords\n",
    "from nltk.stem import PorterStemmer\n",
    "import json\n",
    "import pickle\n",
    "\n",
    "STOPWORD = set(stopwords.words('english'))\n",
    "pt = PorterStemmer()\n",
    "\n",
    "def prep_text(text_id):\n",
    "    # do stop word removal \n",
    "    # do stemmeing for remaning \n",
    "    # Remove numbers\n",
    "    # the perform clustring\n",
    "    text,jid = text_id\n",
    "    text = re.sub(pattern=r'([(!\\\"#\\$%&\\'\\(\\)\\*\\+,-\\./:;=\\?@\\[\\\\\\]\\^_`{\\|}~]+)',repl = '', string =text)\n",
    "    text = re.sub(r'(\\d+)','<n>',text)\n",
    "    text = re.sub(r'\\s+',' ',text)\n",
    "    text = re.sub('<linebreak>','\\n',text)\n",
    "    text = re.sub(' +',' ',text)\n",
    "    words = text.split(' ')\n",
    "    \n",
    "    output = \"\"\n",
    "    for w in words:\n",
    "        if w not in STOPWORD:\n",
    "            output+= pt.stem(w)+\" \"\n",
    "\n",
    "    path = f'../data/processed/processed_judgements/{jid}.txt'\n",
    "    file = open(path,'w')\n",
    "    file.write(output.strip())\n",
    "    file.close()"
   ]
  },
  {
   "cell_type": "code",
   "execution_count": 2,
   "id": "abbae1fe-d580-44ef-8958-537bddf4127a",
   "metadata": {},
   "outputs": [],
   "source": [
    "path_map = open('../data/processed/paths.json','rb')\n",
    "path = json.load(path_map)"
   ]
  },
  {
   "cell_type": "code",
   "execution_count": 3,
   "id": "1757dca8-cb53-4011-8c48-70e1af90139f",
   "metadata": {},
   "outputs": [],
   "source": [
    "file = open(path['jud_path'],'rb')\n",
    "judg = pickle.load(file)"
   ]
  },
  {
   "cell_type": "code",
   "execution_count": 4,
   "id": "08154f64-958a-4dc1-a65d-9e3cc770811e",
   "metadata": {},
   "outputs": [],
   "source": [
    "jud_list = set(judg.keys())"
   ]
  },
  {
   "cell_type": "code",
   "execution_count": 5,
   "id": "7ccede07-472b-4bab-9568-fd9009873243",
   "metadata": {},
   "outputs": [
    {
     "data": {
      "text/plain": [
       "'this <n> is <n> how'"
      ]
     },
     "execution_count": 5,
     "metadata": {},
     "output_type": "execute_result"
    }
   ],
   "source": [
    "' <n> '.join([\"this\",\"is\", \"how\"])"
   ]
  },
  {
   "cell_type": "code",
   "execution_count": 6,
   "id": "87255eba-754e-46a5-8179-a1129ba23430",
   "metadata": {},
   "outputs": [
    {
     "name": "stderr",
     "output_type": "stream",
     "text": [
      "100%|████████████████████████████████████████████████████████████████████████████████████████████████████████████████| 53897/53897 [00:01<00:00, 49641.48it/s]\n"
     ]
    }
   ],
   "source": [
    "from tqdm import tqdm\n",
    "nxt_line_token = ' <linebreak> '\n",
    "judgements_texts = []\n",
    "\n",
    "for jid in tqdm(jud_list):\n",
    "    judgements_texts.append((nxt_line_token.join(judg[jid]['paragraphs']) , jid))\n"
   ]
  },
  {
   "cell_type": "code",
   "execution_count": 10,
   "id": "58ae2aa2-bec3-41e9-8f72-fcfa92890a3b",
   "metadata": {},
   "outputs": [
    {
     "data": {
      "text/plain": [
       "'623061'"
      ]
     },
     "execution_count": 10,
     "metadata": {},
     "output_type": "execute_result"
    }
   ],
   "source": [
    "judgements_texts[1][1]"
   ]
  },
  {
   "cell_type": "code",
   "execution_count": 8,
   "id": "6b6f7f92-86b7-4941-b2a7-cb66ac61fd15",
   "metadata": {},
   "outputs": [
    {
     "name": "stdout",
     "output_type": "stream",
     "text": [
      "40\n"
     ]
    }
   ],
   "source": [
    "import os\n",
    "from multiprocessing import Pool\n",
    "preped_text = []\n",
    "workers = os.cpu_count()\n",
    "print(workers)\n",
    "with Pool(workers) as p:\n",
    "        p.map(prep_text, judgements_texts)"
   ]
  },
  {
   "cell_type": "code",
   "execution_count": null,
   "id": "4044d2bf-5741-4ba1-9aca-e1a7140f5015",
   "metadata": {},
   "outputs": [],
   "source": []
  }
 ],
 "metadata": {
  "kernelspec": {
   "display_name": "Python 3 (ipykernel)",
   "language": "python",
   "name": "python3"
  },
  "language_info": {
   "codemirror_mode": {
    "name": "ipython",
    "version": 3
   },
   "file_extension": ".py",
   "mimetype": "text/x-python",
   "name": "python",
   "nbconvert_exporter": "python",
   "pygments_lexer": "ipython3",
   "version": "3.9.16"
  }
 },
 "nbformat": 4,
 "nbformat_minor": 5
}
