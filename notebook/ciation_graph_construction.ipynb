{
 "cells": [
  {
   "cell_type": "code",
   "execution_count": 1,
   "id": "c355964d-47e6-45b3-85f1-33c49674990c",
   "metadata": {},
   "outputs": [],
   "source": [
    "from pathlib import Path\n",
    "from tqdm import tqdm\n",
    "\n",
    "import json\n",
    "import yaml"
   ]
  },
  {
   "cell_type": "code",
   "execution_count": 2,
   "id": "dd3a5168-7c1b-4fc2-a696-ca90d8378a76",
   "metadata": {},
   "outputs": [],
   "source": [
    "def dict2json(judg,path):\n",
    "    file = open(path,'w')\n",
    "    json.dump(judg,file)\n",
    "    file.close()\n",
    "\n",
    "def get_gpath_dict():\n",
    "    paths = yaml.safe_load(open('/home2/sisodiya.bhoomendra/github/contrastive_learning/data/paths.yaml','r'))\n",
    "    posix_path = {}\n",
    "    for k,v in paths.items():\n",
    "        posix_path[k] = Path(v)\n",
    "    return posix_path"
   ]
  },
  {
   "cell_type": "markdown",
   "id": "0c443ccf-0660-4fff-8d43-1775a4bfbf75",
   "metadata": {},
   "source": [
    "Load the data"
   ]
  },
  {
   "cell_type": "code",
   "execution_count": 3,
   "id": "d0a5ed76-4bca-4800-833c-1d4da0d0ae13",
   "metadata": {},
   "outputs": [
    {
     "data": {
      "text/plain": [
       "{'path_html_judg': PosixPath('/home2/sisodiya.bhoomendra/judgments'),\n",
       " 'path_home': PosixPath('/home2/sisodiya.bhoomendra'),\n",
       " 'path_scratch': PosixPath('/scratch/contrastive'),\n",
       " 'path_clean': PosixPath('../data/processed/processed_judgements'),\n",
       " 'path_bert_ready': PosixPath('../data/processed/bert_ready')}"
      ]
     },
     "execution_count": 3,
     "metadata": {},
     "output_type": "execute_result"
    }
   ],
   "source": [
    "x = get_gpath_dict()\n",
    "x"
   ]
  },
  {
   "cell_type": "code",
   "execution_count": 4,
   "id": "d4115eb8-73c8-45ce-991a-bf7ed30ea6d3",
   "metadata": {},
   "outputs": [],
   "source": [
    "def get_all_paths(path):\n",
    "    print(\"Collecting all paths\")\n",
    "    paths = []\n",
    "    for fpath in path.iterdir():\n",
    "        paths.append(fpath)\n",
    "    return paths"
   ]
  },
  {
   "cell_type": "code",
   "execution_count": 6,
   "id": "227bb848-6190-4d71-bf15-0017cca9e138",
   "metadata": {},
   "outputs": [
    {
     "name": "stdout",
     "output_type": "stream",
     "text": [
      "Collecting all paths\n"
     ]
    }
   ],
   "source": [
    "paths = get_all_paths(x['path_clean'])\n",
    "file = open(paths[0],'r')\n",
    "judg = json.load(file)\n",
    "file.close()"
   ]
  },
  {
   "cell_type": "code",
   "execution_count": 7,
   "id": "aa15539f-f4fd-49c5-81b2-de714beb3e70",
   "metadata": {},
   "outputs": [
    {
     "name": "stderr",
     "output_type": "stream",
     "text": [
      "Link extraction: 100%|███████████████████████████████████████████████████████████████████████████████████████████████████████████| 53897/53897 [00:32<00:00, 1641.93it/s]\n"
     ]
    }
   ],
   "source": [
    "out = list()\n",
    "for path in tqdm(paths,desc=\"Link extraction\"):\n",
    "    file = open(path,'r')\n",
    "    judg = json.load(file)\n",
    "    out.append([path.name.split('.')[0],judg['citation_sc']]) \n",
    "    file.close()"
   ]
  },
  {
   "cell_type": "code",
   "execution_count": 8,
   "id": "1e66b18d-de79-451d-9297-1704b8807931",
   "metadata": {},
   "outputs": [],
   "source": [
    "nodes = [x[0] for x in out]"
   ]
  },
  {
   "cell_type": "code",
   "execution_count": 9,
   "id": "f1c97149-1d2d-4e44-8d3d-782a8f4bf156",
   "metadata": {},
   "outputs": [
    {
     "data": {
      "text/plain": [
       "53897"
      ]
     },
     "execution_count": 9,
     "metadata": {},
     "output_type": "execute_result"
    }
   ],
   "source": [
    "len(nodes)"
   ]
  },
  {
   "cell_type": "code",
   "execution_count": 10,
   "id": "9103b62e-ce6d-4fd0-a898-84048fa48e1e",
   "metadata": {},
   "outputs": [
    {
     "name": "stderr",
     "output_type": "stream",
     "text": [
      "edges: 100%|███████████████████████████████████████████████████████████████████████████████████████████████████████████████████| 53897/53897 [00:00<00:00, 695583.31it/s]\n"
     ]
    }
   ],
   "source": [
    "edges = []\n",
    "for x in tqdm(out,desc=\"edges\"):\n",
    "    for y in x[1]:\n",
    "        edges.append((x[0],y))"
   ]
  },
  {
   "cell_type": "code",
   "execution_count": 11,
   "id": "589db6a5-e706-4c3a-a5c1-c2b28ab2723e",
   "metadata": {},
   "outputs": [
    {
     "data": {
      "text/plain": [
       "132984"
      ]
     },
     "execution_count": 11,
     "metadata": {},
     "output_type": "execute_result"
    }
   ],
   "source": [
    "len(edges)"
   ]
  },
  {
   "cell_type": "code",
   "execution_count": 12,
   "id": "969e96e5-a0de-4c26-b4c6-128bd5eadbe7",
   "metadata": {},
   "outputs": [],
   "source": [
    "import networkx as nx\n",
    "G = nx.DiGraph()\n",
    "G.add_nodes_from(nodes)\n",
    "G.add_edges_from(edges)"
   ]
  },
  {
   "cell_type": "code",
   "execution_count": 13,
   "id": "52e7f9e6-306d-4ff4-a56e-f4b8f9e8fe4d",
   "metadata": {},
   "outputs": [
    {
     "name": "stdout",
     "output_type": "stream",
     "text": [
      "DiGraph with 53897 nodes and 132984 edges\n"
     ]
    }
   ],
   "source": [
    "print(G)"
   ]
  },
  {
   "cell_type": "code",
   "execution_count": null,
   "id": "1cd36c37-a785-42e4-8888-158ce4586869",
   "metadata": {},
   "outputs": [],
   "source": []
  },
  {
   "cell_type": "code",
   "execution_count": 73,
   "id": "16108b64-e1fc-4d1e-ba99-ab7979089cc3",
   "metadata": {},
   "outputs": [],
   "source": [
    "def get_dist_2(source):\n",
    "    out = list(nx.bfs_edges(G, source=source, depth_limit=2))\n",
    "    dist1 =  set([ x[0] for x in out if x[0]!=source ])\n",
    "    triplet = [ (source,x[0],x[1]) for x in out if x[0] in dist1 ]\n",
    "    return triplet"
   ]
  },
  {
   "cell_type": "code",
   "execution_count": 50,
   "id": "7f6c3318-c683-427e-985d-138f54304d7d",
   "metadata": {},
   "outputs": [],
   "source": []
  },
  {
   "cell_type": "code",
   "execution_count": 53,
   "id": "da399838-e649-41c1-8408-517885d767c7",
   "metadata": {},
   "outputs": [],
   "source": [
    "import re\n",
    "IRLED_map = open('../data/maps.txt')\n",
    "text = IRLED_map.read()\n",
    "idx = re.findall('\\d+.json',text)"
   ]
  },
  {
   "cell_type": "code",
   "execution_count": 54,
   "id": "3caaf096-6983-4e2e-a287-3eeea91b18c4",
   "metadata": {},
   "outputs": [
    {
     "data": {
      "text/plain": [
       "200"
      ]
     },
     "execution_count": 54,
     "metadata": {},
     "output_type": "execute_result"
    }
   ],
   "source": [
    "len(idx)"
   ]
  },
  {
   "cell_type": "code",
   "execution_count": 56,
   "id": "1dd0b63d-f9c4-4b17-8c28-6d4447c71a4c",
   "metadata": {},
   "outputs": [
    {
     "data": {
      "text/plain": [
       "'665756'"
      ]
     },
     "execution_count": 56,
     "metadata": {},
     "output_type": "execute_result"
    }
   ],
   "source": [
    "idx[0][:-5]"
   ]
  },
  {
   "cell_type": "code",
   "execution_count": 57,
   "id": "c5ee0d9e-5b1f-409c-b344-c9a062477c5c",
   "metadata": {},
   "outputs": [],
   "source": [
    "idx = [ x.split('.')[0] for x in idx]"
   ]
  },
  {
   "cell_type": "code",
   "execution_count": 59,
   "id": "5d86392d-4657-48d6-bcc7-86822e10ae2e",
   "metadata": {},
   "outputs": [],
   "source": [
    "idx = set(idx)"
   ]
  },
  {
   "cell_type": "code",
   "execution_count": 60,
   "id": "df794c86-0687-49d6-b126-227fadd61500",
   "metadata": {},
   "outputs": [],
   "source": [
    "AILA_2019 = open('../../para_based_legal_search/data/raw/query2indiankanoon.txt','r')\n",
    "text = AILA_2019.read()"
   ]
  },
  {
   "cell_type": "code",
   "execution_count": 63,
   "id": "5bd1a425-f561-4aa6-91fa-8f0e5c0fb931",
   "metadata": {},
   "outputs": [],
   "source": [
    "aila_ids = [ x.split()[-1]  for x in  text.split('\\n')]"
   ]
  },
  {
   "cell_type": "code",
   "execution_count": 66,
   "id": "1d3a0eb8-71f8-44f2-a52b-6bc8fe2ee61f",
   "metadata": {},
   "outputs": [],
   "source": [
    "aila_ids = set(aila_ids)"
   ]
  },
  {
   "cell_type": "code",
   "execution_count": 70,
   "id": "e9735dec-7c7f-425a-89ed-d513716f002e",
   "metadata": {},
   "outputs": [
    {
     "data": {
      "text/plain": [
       "22"
      ]
     },
     "execution_count": 70,
     "metadata": {},
     "output_type": "execute_result"
    }
   ],
   "source": [
    "len(aila_ids)"
   ]
  },
  {
   "cell_type": "code",
   "execution_count": 68,
   "id": "dcba6c05-6a72-4a30-9381-2b9e28afce82",
   "metadata": {},
   "outputs": [],
   "source": [
    "for x in aila_ids:\n",
    "    if x not in 'NAN':\n",
    "        idx.add(x)"
   ]
  },
  {
   "cell_type": "code",
   "execution_count": 69,
   "id": "11bf0eae-c1bb-4c05-b90b-f9d5af861cc7",
   "metadata": {},
   "outputs": [
    {
     "data": {
      "text/plain": [
       "218"
      ]
     },
     "execution_count": 69,
     "metadata": {},
     "output_type": "execute_result"
    }
   ],
   "source": [
    "len(idx)"
   ]
  },
  {
   "cell_type": "code",
   "execution_count": 75,
   "id": "ea660be2-e5f5-4e67-8664-781b11635fb7",
   "metadata": {},
   "outputs": [
    {
     "name": "stderr",
     "output_type": "stream",
     "text": [
      "Making constrastive pairs: 100%|████████████████████████████████████████████████████████████████████████████████████████████████| 53897/53897 [00:00<00:00, 67543.06it/s]\n"
     ]
    }
   ],
   "source": [
    "pos = []\n",
    "neg = []\n",
    "for node in tqdm(nodes,desc='Making constrastive pairs'):\n",
    "    # print(node)\n",
    "    if node not in idx:\n",
    "        spos,sneg = get_dist_2(node)\n",
    "        pos.extend(spos)\n",
    "        neg.extend(sneg)"
   ]
  },
  {
   "cell_type": "code",
   "execution_count": 76,
   "id": "dfd7d6e2-2f4e-438f-97a3-d86a6cb39270",
   "metadata": {},
   "outputs": [
    {
     "data": {
      "text/plain": [
       "130446"
      ]
     },
     "execution_count": 76,
     "metadata": {},
     "output_type": "execute_result"
    }
   ],
   "source": [
    "len(pos)"
   ]
  },
  {
   "cell_type": "code",
   "execution_count": 77,
   "id": "7131d3b4-53f1-4025-bf87-81db45dd2116",
   "metadata": {},
   "outputs": [
    {
     "data": {
      "text/plain": [
       "652356"
      ]
     },
     "execution_count": 77,
     "metadata": {},
     "output_type": "execute_result"
    }
   ],
   "source": [
    "len(neg)"
   ]
  }
 ],
 "metadata": {
  "kernelspec": {
   "display_name": "Python 3 (ipykernel)",
   "language": "python",
   "name": "python3"
  },
  "language_info": {
   "codemirror_mode": {
    "name": "ipython",
    "version": 3
   },
   "file_extension": ".py",
   "mimetype": "text/x-python",
   "name": "python",
   "nbconvert_exporter": "python",
   "pygments_lexer": "ipython3",
   "version": "3.9.16"
  }
 },
 "nbformat": 4,
 "nbformat_minor": 5
}
