{
 "cells": [
  {
   "cell_type": "code",
   "execution_count": 2,
   "id": "c2c551ed-4564-4115-93a1-cfa309e94990",
   "metadata": {},
   "outputs": [],
   "source": [
    "import json\n",
    "import pickle\n",
    "import networkx as nx"
   ]
  },
  {
   "cell_type": "code",
   "execution_count": 4,
   "id": "9de5755a-3a31-42d9-85e6-5ba598317752",
   "metadata": {},
   "outputs": [],
   "source": [
    "graph = nx.read_gexf('../data/processed/Graph_with_sc_citations.gexf')"
   ]
  },
  {
   "cell_type": "code",
   "execution_count": 6,
   "id": "415dd3a0-df27-47cd-8783-b4c509e6ef02",
   "metadata": {},
   "outputs": [
    {
     "name": "stdout",
     "output_type": "stream",
     "text": [
      "Graph with 53897 nodes and 132975 edges\n"
     ]
    }
   ],
   "source": [
    "print(graph)"
   ]
  },
  {
   "cell_type": "code",
   "execution_count": 31,
   "id": "2b1b5e14-447b-4e10-aafb-0b7084eb98ee",
   "metadata": {},
   "outputs": [],
   "source": [
    "paths = open('../data/processed/paths.json','rb')"
   ]
  },
  {
   "cell_type": "code",
   "execution_count": 32,
   "id": "fae2a7e7-a734-4cfe-8380-4b5877725ef0",
   "metadata": {},
   "outputs": [],
   "source": [
    "path = json.load(paths)"
   ]
  },
  {
   "cell_type": "code",
   "execution_count": 33,
   "id": "4b636634-aba1-44d3-bbec-8a65fbfc1e8e",
   "metadata": {},
   "outputs": [
    {
     "data": {
      "text/plain": [
       "{'jud_path': '../../ada_Judgment_text_citation_correlation/data/processed/big/dict_judgments.pkl'}"
      ]
     },
     "execution_count": 33,
     "metadata": {},
     "output_type": "execute_result"
    }
   ],
   "source": []
  },
  {
   "cell_type": "code",
   "execution_count": 38,
   "id": "db20175e-0562-4510-a272-ee074ca93fa2",
   "metadata": {},
   "outputs": [],
   "source": [
    "file = open(path['jud_path'],'rb')"
   ]
  },
  {
   "cell_type": "code",
   "execution_count": 39,
   "id": "68f949b5-a042-46a3-8752-1fd33464ec54",
   "metadata": {},
   "outputs": [],
   "source": [
    "judg = pickle.load(file)"
   ]
  },
  {
   "cell_type": "code",
   "execution_count": 30,
   "id": "4115ae92-24ca-4109-ba7d-de58a47f3c17",
   "metadata": {},
   "outputs": [
    {
     "name": "stdout",
     "output_type": "stream",
     "text": [
      "/home2/sisodiya.bhoomendra/github/contrastive_learning/notebook\n"
     ]
    }
   ],
   "source": [
    "!pwd"
   ]
  },
  {
   "cell_type": "code",
   "execution_count": 42,
   "id": "7fa7aac2-e1bf-4070-8ca5-c3542f0fb943",
   "metadata": {},
   "outputs": [
    {
     "data": {
      "text/plain": [
       "dict_keys(['title', 'author', 'eq_citation', 'bench', 'meta_data', 'paragraphs', 'citation_sc', 'citation_law', 'citation_other_court', 'citation_msic'])"
      ]
     },
     "execution_count": 42,
     "metadata": {},
     "output_type": "execute_result"
    }
   ],
   "source": [
    "judg['1579360'].keys()"
   ]
  },
  {
   "cell_type": "code",
   "execution_count": 43,
   "id": "9c406256-bb37-48be-bff8-2569b753c812",
   "metadata": {},
   "outputs": [],
   "source": [
    "jud_list = set(judg.keys())"
   ]
  },
  {
   "cell_type": "markdown",
   "id": "ce722fbd-b0f0-4f32-8463-d2b662f950d3",
   "metadata": {},
   "source": [
    "## No of paragraph in a judgement distribution without any preprocessing its distribution "
   ]
  },
  {
   "cell_type": "code",
   "execution_count": 44,
   "id": "d3206449-1a99-4f85-981b-0cb69472ac96",
   "metadata": {},
   "outputs": [],
   "source": [
    "para_count = []\n",
    "for jid in jud_list:\n",
    "    para_count.append(len(judg[jid]['paragraphs']))"
   ]
  },
  {
   "cell_type": "code",
   "execution_count": 45,
   "id": "87b06698-7685-4c67-8bae-dcb5fb35233b",
   "metadata": {},
   "outputs": [
    {
     "data": {
      "text/plain": [
       "53897"
      ]
     },
     "execution_count": 45,
     "metadata": {},
     "output_type": "execute_result"
    }
   ],
   "source": [
    "len(para_count)"
   ]
  },
  {
   "cell_type": "code",
   "execution_count": 48,
   "id": "ad50d5df-84a6-46dc-8824-ff389c718b75",
   "metadata": {},
   "outputs": [],
   "source": [
    "import numpy as np\n",
    "np_pc = np.array(para_count)"
   ]
  },
  {
   "cell_type": "code",
   "execution_count": 50,
   "id": "e5fc2408-e189-456f-b8a9-f5cc72f67534",
   "metadata": {},
   "outputs": [],
   "source": [
    "para_len, count = np.unique(np_pc,return_counts=True)"
   ]
  },
  {
   "cell_type": "code",
   "execution_count": 51,
   "id": "51807a88-8d2f-49f1-a340-1865ae823e0c",
   "metadata": {},
   "outputs": [
    {
     "data": {
      "text/plain": [
       "(array([   0,    1,    2,    3,    4,    5,    6,    7,    8,    9,   10,\n",
       "          11,   12,   13,   14,   15,   16,   17,   18,   19,   20,   21,\n",
       "          22,   23,   24,   25,   26,   27,   28,   29,   30,   31,   32,\n",
       "          33,   34,   35,   36,   37,   38,   39,   40,   41,   42,   43,\n",
       "          44,   45,   46,   47,   48,   49,   50,   51,   52,   53,   54,\n",
       "          55,   56,   57,   58,   59,   60,   61,   62,   63,   64,   65,\n",
       "          66,   67,   68,   69,   70,   71,   72,   73,   74,   75,   76,\n",
       "          77,   78,   79,   80,   81,   82,   83,   84,   85,   86,   87,\n",
       "          88,   89,   90,   91,   92,   93,   94,   95,   96,   97,   98,\n",
       "          99,  100,  101,  102,  103,  104,  105,  106,  107,  108,  109,\n",
       "         110,  111,  112,  113,  114,  115,  116,  117,  118,  119,  120,\n",
       "         121,  122,  123,  124,  125,  126,  127,  128,  129,  130,  131,\n",
       "         132,  133,  134,  135,  136,  137,  138,  139,  140,  141,  142,\n",
       "         143,  144,  145,  146,  147,  148,  149,  150,  151,  152,  153,\n",
       "         154,  155,  156,  157,  158,  159,  160,  161,  162,  163,  164,\n",
       "         165,  166,  167,  168,  169,  170,  171,  172,  173,  174,  175,\n",
       "         176,  177,  178,  179,  180,  181,  182,  183,  184,  185,  186,\n",
       "         187,  188,  189,  190,  191,  192,  193,  194,  195,  196,  197,\n",
       "         198,  199,  200,  201,  203,  204,  205,  206,  207,  208,  210,\n",
       "         211,  212,  213,  214,  215,  217,  218,  219,  220,  221,  222,\n",
       "         223,  224,  225,  226,  227,  228,  229,  230,  232,  233,  234,\n",
       "         235,  236,  237,  238,  239,  240,  241,  242,  245,  246,  247,\n",
       "         248,  249,  250,  251,  252,  253,  254,  255,  257,  258,  259,\n",
       "         260,  261,  262,  263,  265,  266,  269,  270,  271,  272,  274,\n",
       "         275,  278,  280,  281,  282,  283,  285,  286,  287,  289,  290,\n",
       "         292,  293,  295,  296,  298,  299,  301,  304,  305,  306,  307,\n",
       "         308,  309,  311,  313,  318,  319,  320,  322,  326,  327,  329,\n",
       "         333,  334,  335,  339,  342,  345,  348,  351,  353,  359,  361,\n",
       "         362,  367,  368,  377,  384,  385,  386,  388,  389,  395,  397,\n",
       "         403,  412,  417,  421,  423,  425,  428,  430,  436,  439,  441,\n",
       "         444,  447,  450,  452,  453,  459,  467,  474,  484,  486,  489,\n",
       "         496,  500,  506,  508,  520,  522,  527,  534,  535,  540,  559,\n",
       "         560,  579,  584,  618,  621,  627,  633,  644,  652,  654,  656,\n",
       "         662,  683,  711,  715,  738,  740,  768,  795,  796,  803,  805,\n",
       "         834,  835,  843,  859,  919,  925,  948,  955,  958, 1008, 1026,\n",
       "        1444, 1508, 1749, 1807, 2096, 2121, 2294, 2512]),\n",
       " array([ 176, 1590, 1829, 2156, 2195, 2157, 2167, 2026, 2010, 1988, 1904,\n",
       "        1896, 1839, 1679, 1548, 1552, 1445, 1415, 1245, 1226, 1159, 1032,\n",
       "         992,  863,  875,  805,  752,  681,  612,  592,  580,  557,  500,\n",
       "         462,  419,  382,  388,  378,  358,  297,  285,  280,  276,  298,\n",
       "         236,  221,  209,  207,  180,  161,  162,  149,  160,  164,  124,\n",
       "         116,  125,  134,  141,  105,  110,   93,   93,  101,   92,   98,\n",
       "          92,   78,   88,   72,   70,   68,   67,   45,   59,   52,   45,\n",
       "          58,   46,   54,   45,   40,   40,   49,   37,   34,   40,   38,\n",
       "          34,   38,   32,   35,   45,   48,   23,   30,   35,   28,   27,\n",
       "          22,   22,   18,   29,   23,   24,   18,   22,   18,   19,   22,\n",
       "          12,   14,   22,   18,   17,   13,   20,   15,   13,   13,   14,\n",
       "          17,   14,   13,    9,    7,   11,    9,    8,    9,   15,    7,\n",
       "          17,   11,   12,   20,    7,   14,   13,    5,   12,   10,    9,\n",
       "           8,   12,    8,    5,    7,    7,    7,    9,   10,    6,   13,\n",
       "           5,    4,    6,    6,    6,    8,    3,    8,    3,    4,    9,\n",
       "           8,    5,    6,    2,    2,    5,    2,    5,    3,    3,    6,\n",
       "           4,    4,    2,    4,    2,    2,    2,    3,    4,    5,    4,\n",
       "           3,    4,    2,    1,    2,    2,    3,    2,    4,    3,    2,\n",
       "           2,    8,    1,    3,    2,    4,    4,    2,    4,    3,    2,\n",
       "           2,    5,    2,    2,    5,    3,    2,    6,    1,    3,    1,\n",
       "           2,    2,    1,    2,    3,    2,    4,    4,    3,    3,    4,\n",
       "           2,    2,    2,    2,    1,    1,    2,    1,    3,    3,    3,\n",
       "           2,    2,    2,    2,    2,    4,    3,    1,    2,    2,    1,\n",
       "           3,    3,    4,    1,    1,    1,    2,    2,    1,    3,    2,\n",
       "           4,    1,    4,    2,    1,    3,    3,    3,    1,    3,    2,\n",
       "           3,    3,    4,    3,    1,    1,    2,    1,    1,    4,    1,\n",
       "           1,    1,    1,    1,    1,    3,    1,    2,    1,    1,    1,\n",
       "           1,    3,    1,    2,    1,    1,    1,    3,    1,    2,    1,\n",
       "           1,    1,    1,    1,    1,    1,    1,    1,    1,    1,    1,\n",
       "           1,    1,    1,    1,    1,    1,    2,    1,    1,    1,    1,\n",
       "           1,    1,    1,    1,    1,    1,    1,    1,    1,    2,    1,\n",
       "           1,    1,    1,    1,    1,    1,    1,    1,    1,    1,    1,\n",
       "           1,    1,    1,    3,    1,    1,    1,    1,    1,    1,    1,\n",
       "           1,    1,    1,    1,    1,    1,    1,    1,    1,    1,    1,\n",
       "           1,    1,    1,    1,    1,    1,    1,    1,    1,    1,    1,\n",
       "           1,    1,    1,    1,    1,    1,    1,    1]))"
      ]
     },
     "execution_count": 51,
     "metadata": {},
     "output_type": "execute_result"
    }
   ],
   "source": [
    "para_len,count"
   ]
  },
  {
   "cell_type": "code",
   "execution_count": 54,
   "id": "5ad2d885-b147-49ed-ab4c-0c64ab86ea6c",
   "metadata": {},
   "outputs": [
    {
     "data": {
      "text/plain": [
       "1247518"
      ]
     },
     "execution_count": 54,
     "metadata": {},
     "output_type": "execute_result"
    }
   ],
   "source": [
    "np.sum(np_pc)"
   ]
  },
  {
   "cell_type": "code",
   "execution_count": 58,
   "id": "8bd16300-1a73-48ba-9095-33d57c257ea3",
   "metadata": {},
   "outputs": [
    {
     "data": {
      "text/plain": [
       "53897"
      ]
     },
     "execution_count": 58,
     "metadata": {},
     "output_type": "execute_result"
    }
   ],
   "source": [
    "np.sum(count)"
   ]
  },
  {
   "cell_type": "code",
   "execution_count": 65,
   "id": "7b57865b-0f17-4548-8df2-54ff5a7527eb",
   "metadata": {},
   "outputs": [
    {
     "name": "stdout",
     "output_type": "stream",
     "text": [
      "0 : Percentage covrage :0.0 , Left Cases: 53897\n",
      "5 : Percentage covrage :0.147 , Left Cases: 45951\n",
      "10 : Percentage covrage :0.339 , Left Cases: 35603\n",
      "15 : Percentage covrage :0.504 , Left Cases: 26737\n",
      "20 : Percentage covrage :0.632 , Left Cases: 19854\n",
      "25 : Percentage covrage :0.723 , Left Cases: 14933\n",
      "30 : Percentage covrage :0.787 , Left Cases: 11491\n",
      "35 : Percentage covrage :0.834 , Left Cases: 8973\n",
      "40 : Percentage covrage :0.867 , Left Cases: 7170\n",
      "45 : Percentage covrage :0.892 , Left Cases: 5795\n",
      "50 : Percentage covrage :0.911 , Left Cases: 4817\n",
      "55 : Percentage covrage :0.925 , Left Cases: 4058\n",
      "60 : Percentage covrage :0.936 , Left Cases: 3437\n",
      "65 : Percentage covrage :0.945 , Left Cases: 2948\n",
      "70 : Percentage covrage :0.953 , Left Cases: 2520\n",
      "75 : Percentage covrage :0.959 , Left Cases: 2211\n",
      "80 : Percentage covrage :0.964 , Left Cases: 1956\n",
      "85 : Percentage covrage :0.968 , Left Cases: 1745\n",
      "90 : Percentage covrage :0.971 , Left Cases: 1561\n",
      "95 : Percentage covrage :0.974 , Left Cases: 1378\n",
      "100 : Percentage covrage :0.977 , Left Cases: 1236\n",
      "105 : Percentage covrage :0.979 , Left Cases: 1120\n",
      "110 : Percentage covrage :0.981 , Left Cases: 1021\n",
      "115 : Percentage covrage :0.983 , Left Cases: 938\n",
      "120 : Percentage covrage :0.984 , Left Cases: 864\n",
      "125 : Percentage covrage :0.985 , Left Cases: 797\n",
      "130 : Percentage covrage :0.986 , Left Cases: 753\n",
      "135 : Percentage covrage :0.987 , Left Cases: 691\n",
      "140 : Percentage covrage :0.988 , Left Cases: 632\n",
      "145 : Percentage covrage :0.989 , Left Cases: 581\n",
      "150 : Percentage covrage :0.99 , Left Cases: 547\n",
      "155 : Percentage covrage :0.991 , Left Cases: 504\n",
      "160 : Percentage covrage :0.991 , Left Cases: 474\n",
      "165 : Percentage covrage :0.992 , Left Cases: 447\n",
      "170 : Percentage covrage :0.992 , Left Cases: 424\n",
      "175 : Percentage covrage :0.992 , Left Cases: 406\n",
      "180 : Percentage covrage :0.993 , Left Cases: 386\n",
      "185 : Percentage covrage :0.993 , Left Cases: 373\n",
      "190 : Percentage covrage :0.993 , Left Cases: 355\n",
      "195 : Percentage covrage :0.994 , Left Cases: 345\n",
      "200 : Percentage covrage :0.994 , Left Cases: 326\n",
      "206 : Percentage covrage :0.994 , Left Cases: 312\n",
      "212 : Percentage covrage :0.994 , Left Cases: 299\n",
      "218 : Percentage covrage :0.995 , Left Cases: 282\n",
      "223 : Percentage covrage :0.995 , Left Cases: 269\n",
      "228 : Percentage covrage :0.995 , Left Cases: 259\n",
      "234 : Percentage covrage :0.995 , Left Cases: 243\n",
      "239 : Percentage covrage :0.996 , Left Cases: 231\n",
      "246 : Percentage covrage :0.996 , Left Cases: 223\n",
      "251 : Percentage covrage :0.996 , Left Cases: 211\n",
      "257 : Percentage covrage :0.996 , Left Cases: 199\n",
      "262 : Percentage covrage :0.997 , Left Cases: 188\n",
      "270 : Percentage covrage :0.997 , Left Cases: 179\n",
      "278 : Percentage covrage :0.997 , Left Cases: 167\n",
      "285 : Percentage covrage :0.997 , Left Cases: 156\n",
      "292 : Percentage covrage :0.997 , Left Cases: 144\n",
      "299 : Percentage covrage :0.998 , Left Cases: 130\n",
      "307 : Percentage covrage :0.998 , Left Cases: 121\n",
      "318 : Percentage covrage :0.998 , Left Cases: 116\n",
      "327 : Percentage covrage :0.998 , Left Cases: 108\n",
      "339 : Percentage covrage :0.998 , Left Cases: 101\n",
      "353 : Percentage covrage :0.998 , Left Cases: 93\n",
      "368 : Percentage covrage :0.998 , Left Cases: 87\n",
      "388 : Percentage covrage :0.998 , Left Cases: 82\n",
      "412 : Percentage covrage :0.999 , Left Cases: 77\n",
      "428 : Percentage covrage :0.999 , Left Cases: 72\n",
      "444 : Percentage covrage :0.999 , Left Cases: 66\n",
      "459 : Percentage covrage :0.999 , Left Cases: 61\n",
      "489 : Percentage covrage :0.999 , Left Cases: 55\n",
      "520 : Percentage covrage :0.999 , Left Cases: 50\n",
      "540 : Percentage covrage :0.999 , Left Cases: 45\n",
      "618 : Percentage covrage :0.999 , Left Cases: 40\n",
      "652 : Percentage covrage :0.999 , Left Cases: 33\n",
      "711 : Percentage covrage :0.999 , Left Cases: 28\n",
      "795 : Percentage covrage :1.0 , Left Cases: 23\n",
      "835 : Percentage covrage :1.0 , Left Cases: 18\n",
      "948 : Percentage covrage :1.0 , Left Cases: 13\n",
      "1444 : Percentage covrage :1.0 , Left Cases: 8\n",
      "2121 : Percentage covrage :1.0 , Left Cases: 3\n"
     ]
    }
   ],
   "source": [
    "for x in range(0,393,5):\n",
    "    print(para_len[x],end=' : ')\n",
    "    print(f\"Percentage covrage :{round(np.sum(count[:x])/53897 ,3)} , Left Cases: {53897 - np.sum(count[:x])}\")"
   ]
  },
  {
   "cell_type": "code",
   "execution_count": 68,
   "id": "246914c1-4a33-40c1-93e1-4e2be7c7b545",
   "metadata": {},
   "outputs": [
    {
     "data": {
      "text/plain": [
       "<AxesSubplot: ylabel='Count'>"
      ]
     },
     "execution_count": 68,
     "metadata": {},
     "output_type": "execute_result"
    },
    {
     "data": {
      "image/png": "[encoded data removed]",
      "text/plain": [
       "<Figure size 640x480 with 1 Axes>"
      ]
     },
     "metadata": {},
     "output_type": "display_data"
    }
   ],
   "source": [
    "import seaborn as sns\n",
    "sns.histplot(np_pc[np_pc<300],kde=True)"
   ]
  },
  {
   "cell_type": "markdown",
   "id": "047efffd-1fd4-48fe-b2ce-18f5d2f6c132",
   "metadata": {},
   "source": [
    "### Check judgement with less that 3-4 paragraph because that is very low"
   ]
  },
  {
   "cell_type": "markdown",
   "id": "a2c35822-c855-43b7-af27-33ff0ec5ddbc",
   "metadata": {},
   "source": [
    "### Look at the paragraph length distribution "
   ]
  },
  {
   "cell_type": "markdown",
   "id": "a474e3d4-755e-44c4-8eda-0fa66df313f1",
   "metadata": {},
   "source": [
    "### threshold on no of words a paragraph whould have to be called as a valid paragraph "
   ]
  },
  {
   "cell_type": "code",
   "execution_count": 71,
   "id": "1bd5779f-fc65-4359-913c-0610d2e59a80",
   "metadata": {},
   "outputs": [
    {
     "name": "stderr",
     "output_type": "stream",
     "text": [
      "/tmp/ipykernel_2762/1955667261.py:2: DeprecationWarning: Sampling from a set deprecated\n",
      "since Python 3.9 and will be removed in a subsequent version.\n",
      "  judg[random.sample(jud_list, 1)[0]]['paragraphs']\n"
     ]
    },
    {
     "data": {
      "text/plain": [
       "['2. it is the case of the respondents that there was requirement of houses for nearly 8 lakh persons within the reach of common man in delhi. to meet the shortage of housing accommodation, the delhi development authority (dda) sought requisition of the land for its scheme known as \"rohini residential scheme\" (hereinafter referred to as \"the scheme\"). the said scheme was initially planned in three phases - phases i, ii, and iii. the three phases in the scheme were developed. even then, the acute shortage of houses in the city of delhi continued. accordingly, the plan for development of rohini phases iv and v was 2 formulated.',\n",
       " '3. on the requisition of the dda, on october 27, 1999, a notification under of the land acquisition act, 1894 (for short \"the act\") was issued indicating that land stated therein was likely to be required by the government of delhi for the public purpose namely; rohini residential scheme, delhi. in the said notification, it was also mentioned that lt. governor, delhi was satisfied that provisions of sub-section (1) of of the act were applicable to the land mentioned in the notification and he was pleased under sub-section (4) of to direct that all the provisions of of the act would not apply.',\n",
       " '4. on april 3, 2000, a declaration was made by the government of delhi under of the act stating that the land mentioned therein was acquired for the public purpose namely; rohini residential scheme.',\n",
       " '5. another notification of the same date was issued under of the act directing the land acquisition collector, narela to take orders for acquisition of the said land and take possession of the land mentioned therein.',\n",
       " '6. the appellant in the present appeal claims to be the owner of the land ad-measuring 14 bighas 18 biswas in khasra nos. 22 and 39 of village shahbad-daulatpur 3 after the said land came to be donated to it by the erstwhile owners. the appellant further claims that a school has been set up on the above land which imparts education to a large number of students. the appellant challenged the acquisition of the above land which forms part of the above notifications before the delhi high court. large number of other writ petitions also came to be filed before the high court challenging the above notifications.',\n",
       " '7. before the high court, diverse grounds in challenging the acquisition of the subject land were set up; two of such grounds being that lt. governor has not applied his mind for dispensation of the enquiry under of the act and that resort to the urgency provisions contained in of the act was unwarranted and unjustified.',\n",
       " '8. the respondents contested the group of writ petitions and justified their action including invocation of urgency clause and dispensation of the enquiry under of the act.',\n",
       " '9. the division bench of the high court, on hearing the parties, was not persuaded by the contentions of the appellant and the other writ petitioners which formed part of the group matters and dismissed the writ petitions being devoid of merit on july 9, 2007. it is from this judgment that the present appeal has 4 arisen.',\n",
       " '10. the high court in the impugned judgment noticed the contentions of the writ petitioners in paragraph 2 as follows:',\n",
       " '11. the high court noted the statutory provisions contained in ,,,,,, & of the act and referred to the decisions of this court relating to the interpretation of of the act in the cases namely; .1;',\n",
       " '.2;, ; munshi singh and others vs. union of india4; . with regard to decisions of this court in nandeshwar prasad1, krishan lal arneja5 and mukesh hans3, the high court, observed as follows:',\n",
       " '12. the high court then considered the three decisions of that court in ; chaman lal malhotra vs. union of india, w.p. (c) 4002 of 1997 decided on august 8, 2005 and 6 and observed that they were not persuaded to follow the line of reasoning in the above three cases relied upon by the writ petitioners.',\n",
       " '13. the high court also considered the act xxxviii of 1923 whereby the act came to be amended. the high court indicated its opinion in the following words:',\n",
       " '15. while dealing with the question whether the decision of the lt. governor to dispense with of the act was properly taken or not, the division bench observed thus:',\n",
       " '17. in a recent decision of this court in and others8, this court considered elaborately the power of urgency conferred upon the government under of the act, its invocation and dispensation of enquiry under of the act. this court speaking through one of us (r.m. lodha,j.) in anand singh8 considered the previous decisions of this court in .9; ; ; ; ; ; ; chameli singh s. state of u.p.16; ; .18; ; ; ; and .22 and culled out the legal position as follows:',\n",
       " '\"when the government proceeds for compulsory acquisition of a particular property for public purpose, the only right that the owner or the person interested in the property has, is to submit his objections within the prescribed time under of the act and persuade the state authorities to drop the acquisition of that particular land by setting forth the reasons such as the unsuitability of the land for the stated public purpose; the grave hardship that may be caused to him by such expropriation, availability of alternative land for achieving public purpose etc. moreover, the right conferred on the owner or person interested to file objections to the proposed acquisition is not only an important and valuable right but also makes the provision for compulsory acquisition just and in conformity with the fundamental principles of natural justice.',\n",
       " 'the exceptional and extraordinary power of doing away with an enquiry under in a case where possession of the land is required urgently or in an unforeseen emergency is provided in of the act. such power is not a routine power and save circumstances warranting immediate possession it should not be lightly invoked. the guideline is inbuilt in itself for exercise of the exceptional power in dispensing with enquiry under . exceptional the power, the more circumspect the government must be in its exercise. the government obviously, therefore, has to apply its mind before it dispenses with enquiry under on the aspect whether the urgency is of such a nature that justifies elimination of summary enquiry under .',\n",
       " 'a repetition of the statutory phrase in the notification that the state government is satisfied that the land specified in the notification is urgently needed and the provision contained in shall not apply, though may initially raise a presumption in favour of the government that prerequisite conditions for exercise of such power have been satisfied, but such presumption may 12 be displaced by the circumstances themselves having no reasonable nexus with the purpose for which the power has been exercised. upon challenge being made to the use of power under , the government must produce appropriate material before the court that the opinion for dispensing with the enquiry under has been formed by the government after due application of mind on the material placed before it.',\n",
       " 'it is true that power conferred upon the government under is administrative and its opinion is entitled to due weight, but in a case where the opinion is formed regarding the urgency based on considerations not germane to the purpose, the judicial review of such administrative decision may become necessary.',\n",
       " 'as to in what circumstances the power of emergency can be invoked are specified in but circumstances necessitating invocation of urgency under are not stated in the provision itself. generally speaking, the development of an area (for residential purposes) or a planned development of city, takes many years if not decades and, therefore, there is no reason why summary enquiry as contemplated under may not be held and objections of landowners/persons interested may not be considered. in many cases, on general assumption likely delay in completion of enquiry under is set up as a reason for invocation of extraordinary power in dispensing with the enquiry little realizing that an important and valuable right of the person interested in the land is being taken away and with some effort enquiry could always be completed expeditiously.',\n",
       " 'the special provision has been made in to eliminate enquiry under in deserving and cases of real urgency. the government has to apply its mind on the aspect that urgency is of such nature that necessitates dispensation of enquiry under . we have already noticed a few decisions of this court. there is conflict of view in the two decisions of this court viz. , (1977) 1 scc 133, and , (1986) 4 scc 251. ., (1998) 6 scc 1, this court held that decision 13 in pista devi (supra) must be confined to the fact situation in those days when it was rendered and the two-judge bench could not have laid down a proposition contrary to the decision in narayan govind gavate (supra). we agree.',\n",
       " 'as regards the issue whether pre-notification and post-notification delay would render the invocation of urgency power void, again the case law is not consistent. the view of this court has differed on this aspect due to different fact situation prevailing in those cases. in our opinion such delay will have material bearing on the question of invocation of urgency power, particularly in a situation where no material has been placed by the appropriate government before the court justifying that urgency was of such nature that necessitated elimination of enquiry under .',\n",
       " \"in a country as big as ours, a roof over the head is a distant dream for a large number of people. the urban development continues to be haphazard. there is no doubt that planned development and housing are matters of priority in a developing nation. the question is as to whether in all cases of 'planned development of the city' or 'for the development of residential area', the power of urgency may be invoked by the government and even where such power is invoked, should the enquiry contemplated under be dispensed with invariably. we do not think so. whether `planned development of city' or `development of residential area' cannot brook delay of a few months to complete the enquiry under section 5- a? in our opinion, ordinarily it can. the government must, therefore, do a balancing act and resort to the special power of urgency under in the matters of acquisition of land for the public purpose viz. 'planned development of city' or 'for development of residential area' in exceptional situation.\",\n",
       " \"use of the power by the government under for `planned development of the city' or `the development of residential area' or for `housing' must not be as a rule but by way of an exception. such exceptional situation may be for the public purpose viz. rehabilitation of natural calamity affected persons; rehabilitation of persons uprooted due to commissioning of dam or housing for lower strata of the society urgently;\",\n",
       " 'rehabilitation of persons affected by time bound projects, etc. the list is only illustrative and not exhaustive. in any case, sans real urgency and need for immediate possession of the land for carrying out the stated purpose, heavy onus lies on the government to justify the exercise of such power.',\n",
       " 'it must, therefore, be held that the use of the power of urgency and dispensation of enquiry under by the government in a routine manner for the \\'planned development of city\\' or \\'development of residential area\\' and thereby depriving the owner or person interested of a very valuable right under may not meet the statutory test nor could be readily sustained.\"',\n",
       " '18. if the government seeks to invoke its power of urgency, it has to first form the opinion that the land for the stated public purpose is urgently needed. such opinion has to be founded on the need for immediate possession of the land for carrying out the purpose for which land is sought to be compulsorily acquired. the use of power of urgency under and (4) of the act ipso facto does not result in elimination of enquiry under and, therefore, if the government intends to eliminate enquiry, then it has to apply its mind on the aspect that urgency is of such nature that necessitates elimination of such enquiry. the satisfaction of the government on twin aspects viz; (i) need for immediate possession of the land for carrying out the stated purpose and (ii) urgency is such that necessitates dispensation of enquiry is a must and permits no departure for a valid exercise of power under 15 and (4). in paragraph 51 of the case of anand singh8, it has been held that use of the power of urgency and dispensation of enquiry under of the act by the government in a routine manner for the \"planned development of city\" or \"development of residential area\" and thereby depriving the owner or person interested of a very valuable right under may not meet the statutory test nor could be readily sustained (emphasis supplied). ordinarily, therefore, invocation of urgency power by the government for a residential scheme - that does not fall in exceptional category as illustrated in para 50 of anand singh8 - cannot be held to be legally sustainable.',\n",
       " '19. adverting now to the notification dated october 27, 1999, the statement made therein is to the effect \"the lt. governor, delhi is satisfied also that provisions of sub-section (1) of of the said act are applicable to this land and is further pleased under sub-section (4) of the said section to direct that all the provisions of shall not apply\". for what has been stated just above in immediately preceding paragraph, the exercise of power by the lt. governor, delhi under and (4) has to be held bad in law. moreover, except the above 16 statement in the notification, there is no other material available on record which indicates that there has been application of mind by the lt. governor, delhi on the aspect that urgency was of such nature that necessitated dispensation of enquiry under of the act. the respondents have miserably failed to show that the stated purpose \\'rohini residential scheme\\' could not have brooked the delay of few months and the conclusion of the enquiry under of the act would have frustrated the said public purpose.',\n",
       " \"20. where the government invokes urgency power under and (4) for the public purpose like 'planned development of city' or 'development of residential area' or 'residential scheme', the initial presumption in favour of the government does not arise and the burden lies on the government to prove that the use of power was justified and dispensation of enquiry was necessary. in the present case, the respondents have miserably failed to show to the satisfaction of the court that power of urgency and dispensation of enquiry under has been exercised with justification. the action of the lt. governor, delhi, in the facts of the case whereby he directed that the provisions of shall not apply, if allowed to stand, it would amount to 17 depriving a person of his property without authority of law.\",\n",
       " '21. the power of urgency by the government under for a public purpose like residential scheme cannot be invoked as a rule but has to be by way of exception. as noted above, no material is available on record that justifies dispensation of enquiry under of the act. the high court was clearly wrong in holding that there was sufficient urgency in invoking the provisions of of the act.',\n",
       " '22. consequently, the appeal is allowed. the notification dated october 27, 1999 to the effect \"the lt. governor, delhi is satisfied also that provisions of sub-section (1) of of the said act are applicable to this land and is further pleased under sub-section (4) of the said section to direct that all the provisions of shall not apply\" insofar as appellant\\'s land is concerned is quashed. the declaration dated april 3, 2000 issued and published under of the act concerning the subject property is also quashed. the competent authority may now invite objections under of the act pursuant to the notification dated october 18 27, 1999 and proceed with the matter in accordance with law. no order as to costs.']"
      ]
     },
     "execution_count": 71,
     "metadata": {},
     "output_type": "execute_result"
    }
   ],
   "source": [
    "import random\n",
    "judg[random.sample(jud_list, 1)[0]]['paragraphs']"
   ]
  },
  {
   "cell_type": "markdown",
   "id": "10eca1cd-3ca4-46a3-83e3-763d9ecd7e2e",
   "metadata": {},
   "source": [
    "Numder of char in a paragraph"
   ]
  },
  {
   "cell_type": "code",
   "execution_count": null,
   "id": "fe9ad67c-1467-4462-809e-36b2c9b61e9c",
   "metadata": {},
   "outputs": [],
   "source": [
    "para_lengths = []\n",
    "for jid in jud_list:\n",
    "    for para in judg[jid]['paragraphs']:\n",
    "        para_lengths.append(len(para))"
   ]
  },
  {
   "cell_type": "code",
   "execution_count": null,
   "id": "5f13a58c-4b7e-4d3c-88aa-7db7f3a97d78",
   "metadata": {},
   "outputs": [
    {
     "data": {
      "text/plain": [
       "1247518"
      ]
     },
     "execution_count": 73,
     "metadata": {},
     "output_type": "execute_result"
    }
   ],
   "source": [
    "len(para_lengths)"
   ]
  },
  {
   "cell_type": "code",
   "execution_count": 74,
   "id": "18bafad5-ea1e-49f7-a219-e291269b1bbf",
   "metadata": {},
   "outputs": [],
   "source": [
    "uniq_para,count = np.unique(para_lengths,return_counts=True)"
   ]
  },
  {
   "cell_type": "code",
   "execution_count": 77,
   "id": "f3f32609-942b-4995-8d61-8fd4ee51715e",
   "metadata": {},
   "outputs": [
    {
     "data": {
      "text/plain": [
       "(7434,)"
      ]
     },
     "execution_count": 77,
     "metadata": {},
     "output_type": "execute_result"
    }
   ],
   "source": [
    "uniq_para.shape"
   ]
  },
  {
   "cell_type": "code",
   "execution_count": 79,
   "id": "54726c90-27cd-4f64-9296-405d6b02bee1",
   "metadata": {},
   "outputs": [
    {
     "data": {
      "text/plain": [
       "(7434,)"
      ]
     },
     "execution_count": 79,
     "metadata": {},
     "output_type": "execute_result"
    }
   ],
   "source": [
    "count.shape"
   ]
  },
  {
   "cell_type": "code",
   "execution_count": 88,
   "id": "72d94bcd-da35-47d0-8763-c614992a9b9a",
   "metadata": {},
   "outputs": [
    {
     "name": "stdout",
     "output_type": "stream",
     "text": [
      "24 : Percentage covrage :0.0 , Left Cases: 1247518\n",
      "147 : Percentage covrage :0.067 , Left Cases: 1164460\n",
      "247 : Percentage covrage :0.228 , Left Cases: 962668\n",
      "347 : Percentage covrage :0.356 , Left Cases: 803414\n",
      "447 : Percentage covrage :0.459 , Left Cases: 675214\n",
      "547 : Percentage covrage :0.542 , Left Cases: 571644\n",
      "647 : Percentage covrage :0.609 , Left Cases: 487207\n",
      "747 : Percentage covrage :0.665 , Left Cases: 417534\n",
      "847 : Percentage covrage :0.712 , Left Cases: 359439\n",
      "947 : Percentage covrage :0.751 , Left Cases: 310336\n",
      "1047 : Percentage covrage :0.784 , Left Cases: 268928\n",
      "1147 : Percentage covrage :0.813 , Left Cases: 233858\n",
      "1247 : Percentage covrage :0.837 , Left Cases: 203816\n",
      "1347 : Percentage covrage :0.857 , Left Cases: 178556\n",
      "1447 : Percentage covrage :0.874 , Left Cases: 156887\n",
      "1547 : Percentage covrage :0.889 , Left Cases: 137950\n",
      "1647 : Percentage covrage :0.903 , Left Cases: 121471\n",
      "1747 : Percentage covrage :0.914 , Left Cases: 107236\n",
      "1847 : Percentage covrage :0.924 , Left Cases: 94961\n",
      "1947 : Percentage covrage :0.933 , Left Cases: 84079\n",
      "2047 : Percentage covrage :0.94 , Left Cases: 74643\n",
      "2147 : Percentage covrage :0.947 , Left Cases: 66379\n",
      "2247 : Percentage covrage :0.953 , Left Cases: 59205\n",
      "2347 : Percentage covrage :0.958 , Left Cases: 52872\n",
      "2447 : Percentage covrage :0.962 , Left Cases: 47464\n",
      "2547 : Percentage covrage :0.966 , Left Cases: 42700\n",
      "2647 : Percentage covrage :0.969 , Left Cases: 38308\n",
      "2747 : Percentage covrage :0.972 , Left Cases: 34421\n",
      "2847 : Percentage covrage :0.975 , Left Cases: 31037\n",
      "2947 : Percentage covrage :0.978 , Left Cases: 27959\n",
      "3047 : Percentage covrage :0.98 , Left Cases: 25290\n",
      "3147 : Percentage covrage :0.982 , Left Cases: 23017\n",
      "3247 : Percentage covrage :0.983 , Left Cases: 20893\n",
      "3347 : Percentage covrage :0.985 , Left Cases: 18965\n",
      "3447 : Percentage covrage :0.986 , Left Cases: 17326\n",
      "3547 : Percentage covrage :0.987 , Left Cases: 15803\n",
      "3647 : Percentage covrage :0.988 , Left Cases: 14478\n",
      "3747 : Percentage covrage :0.989 , Left Cases: 13237\n",
      "3847 : Percentage covrage :0.99 , Left Cases: 12118\n",
      "3947 : Percentage covrage :0.991 , Left Cases: 11074\n",
      "4047 : Percentage covrage :0.992 , Left Cases: 10153\n",
      "4147 : Percentage covrage :0.992 , Left Cases: 9370\n",
      "4247 : Percentage covrage :0.993 , Left Cases: 8591\n",
      "4347 : Percentage covrage :0.994 , Left Cases: 7933\n",
      "4447 : Percentage covrage :0.994 , Left Cases: 7272\n",
      "4547 : Percentage covrage :0.995 , Left Cases: 6705\n",
      "4647 : Percentage covrage :0.995 , Left Cases: 6202\n",
      "4750 : Percentage covrage :0.995 , Left Cases: 5728\n",
      "4852 : Percentage covrage :0.996 , Left Cases: 5275\n",
      "4952 : Percentage covrage :0.996 , Left Cases: 4903\n",
      "5054 : Percentage covrage :0.996 , Left Cases: 4582\n",
      "5155 : Percentage covrage :0.997 , Left Cases: 4228\n",
      "5256 : Percentage covrage :0.997 , Left Cases: 3917\n",
      "5368 : Percentage covrage :0.997 , Left Cases: 3624\n",
      "5479 : Percentage covrage :0.997 , Left Cases: 3373\n",
      "5589 : Percentage covrage :0.998 , Left Cases: 3106\n",
      "5702 : Percentage covrage :0.998 , Left Cases: 2865\n",
      "5823 : Percentage covrage :0.998 , Left Cases: 2625\n",
      "5939 : Percentage covrage :0.998 , Left Cases: 2414\n",
      "6064 : Percentage covrage :0.998 , Left Cases: 2205\n",
      "6194 : Percentage covrage :0.998 , Left Cases: 2029\n",
      "6338 : Percentage covrage :0.999 , Left Cases: 1854\n",
      "6491 : Percentage covrage :0.999 , Left Cases: 1676\n",
      "6672 : Percentage covrage :0.999 , Left Cases: 1506\n",
      "6837 : Percentage covrage :0.999 , Left Cases: 1339\n",
      "7029 : Percentage covrage :0.999 , Left Cases: 1183\n",
      "7256 : Percentage covrage :0.999 , Left Cases: 1031\n",
      "7520 : Percentage covrage :0.999 , Left Cases: 898\n",
      "7845 : Percentage covrage :0.999 , Left Cases: 768\n",
      "8157 : Percentage covrage :0.999 , Left Cases: 638\n",
      "8569 : Percentage covrage :1.0 , Left Cases: 517\n",
      "9141 : Percentage covrage :1.0 , Left Cases: 393\n",
      "9956 : Percentage covrage :1.0 , Left Cases: 274\n",
      "11313 : Percentage covrage :1.0 , Left Cases: 161\n",
      "17964 : Percentage covrage :1.0 , Left Cases: 41\n"
     ]
    }
   ],
   "source": [
    "for x in range(0,7434,100):\n",
    "    print(uniq_para[x],end=' : ')\n",
    "    print(f\"Percentage covrage :{round(np.sum(count[:x])/1247518 ,3)} , Left Cases: {1247518 - np.sum(count[:x])}\")"
   ]
  },
  {
   "cell_type": "code",
   "execution_count": 89,
   "id": "3fcdde8e-bc39-4c54-9300-70835859a954",
   "metadata": {},
   "outputs": [],
   "source": [
    "para_lengths_word = []\n",
    "for jid in jud_list:\n",
    "    for para in judg[jid]['paragraphs']:\n",
    "        para_lengths_word.append(len(para.split(' ')))\n",
    "uniq_para,count = np.unique(para_lengths_word,return_counts=True)"
   ]
  },
  {
   "cell_type": "code",
   "execution_count": 93,
   "id": "9f433f51-fffe-4db2-8a7e-d1add01f9f47",
   "metadata": {},
   "outputs": [
    {
     "data": {
      "text/plain": [
       "(1773,)"
      ]
     },
     "execution_count": 93,
     "metadata": {},
     "output_type": "execute_result"
    }
   ],
   "source": [
    "count.shape"
   ]
  },
  {
   "cell_type": "code",
   "execution_count": 94,
   "id": "0c9d3c6e-0c8f-4a66-b19d-6377b2482001",
   "metadata": {},
   "outputs": [
    {
     "data": {
      "text/plain": [
       "(1773,)"
      ]
     },
     "execution_count": 94,
     "metadata": {},
     "output_type": "execute_result"
    }
   ],
   "source": [
    "uniq_para.shape"
   ]
  },
  {
   "cell_type": "code",
   "execution_count": 97,
   "id": "6c5aeaad-001c-4366-a390-52811c80b50e",
   "metadata": {},
   "outputs": [
    {
     "name": "stdout",
     "output_type": "stream",
     "text": [
      "1 : Percentage covrage :0.0 , Left Cases: 1247518\n",
      "37 : Percentage covrage :0.179 , Left Cases: 1023819\n",
      "57 : Percentage covrage :0.339 , Left Cases: 825160\n",
      "77 : Percentage covrage :0.461 , Left Cases: 672164\n",
      "97 : Percentage covrage :0.557 , Left Cases: 553187\n",
      "117 : Percentage covrage :0.632 , Left Cases: 459554\n",
      "137 : Percentage covrage :0.692 , Left Cases: 384712\n",
      "157 : Percentage covrage :0.741 , Left Cases: 323356\n",
      "177 : Percentage covrage :0.781 , Left Cases: 273361\n",
      "197 : Percentage covrage :0.814 , Left Cases: 232129\n",
      "217 : Percentage covrage :0.841 , Left Cases: 198135\n",
      "237 : Percentage covrage :0.864 , Left Cases: 169675\n",
      "257 : Percentage covrage :0.883 , Left Cases: 146079\n",
      "277 : Percentage covrage :0.899 , Left Cases: 126006\n",
      "297 : Percentage covrage :0.913 , Left Cases: 109060\n",
      "317 : Percentage covrage :0.924 , Left Cases: 94639\n",
      "337 : Percentage covrage :0.934 , Left Cases: 82292\n",
      "357 : Percentage covrage :0.943 , Left Cases: 71707\n",
      "377 : Percentage covrage :0.95 , Left Cases: 62587\n",
      "397 : Percentage covrage :0.956 , Left Cases: 54916\n",
      "417 : Percentage covrage :0.961 , Left Cases: 48250\n",
      "437 : Percentage covrage :0.966 , Left Cases: 42735\n",
      "457 : Percentage covrage :0.97 , Left Cases: 37718\n",
      "477 : Percentage covrage :0.973 , Left Cases: 33320\n",
      "497 : Percentage covrage :0.976 , Left Cases: 29609\n",
      "517 : Percentage covrage :0.979 , Left Cases: 26308\n",
      "537 : Percentage covrage :0.981 , Left Cases: 23468\n",
      "557 : Percentage covrage :0.983 , Left Cases: 20986\n",
      "577 : Percentage covrage :0.985 , Left Cases: 18838\n",
      "597 : Percentage covrage :0.986 , Left Cases: 16933\n",
      "617 : Percentage covrage :0.988 , Left Cases: 15206\n",
      "637 : Percentage covrage :0.989 , Left Cases: 13726\n",
      "657 : Percentage covrage :0.99 , Left Cases: 12372\n",
      "677 : Percentage covrage :0.991 , Left Cases: 11184\n",
      "697 : Percentage covrage :0.992 , Left Cases: 10153\n",
      "717 : Percentage covrage :0.993 , Left Cases: 9226\n",
      "737 : Percentage covrage :0.993 , Left Cases: 8399\n",
      "757 : Percentage covrage :0.994 , Left Cases: 7608\n",
      "777 : Percentage covrage :0.994 , Left Cases: 6877\n",
      "797 : Percentage covrage :0.995 , Left Cases: 6260\n",
      "817 : Percentage covrage :0.995 , Left Cases: 5742\n",
      "837 : Percentage covrage :0.996 , Left Cases: 5274\n",
      "857 : Percentage covrage :0.996 , Left Cases: 4820\n",
      "877 : Percentage covrage :0.996 , Left Cases: 4423\n",
      "897 : Percentage covrage :0.997 , Left Cases: 4086\n",
      "917 : Percentage covrage :0.997 , Left Cases: 3764\n",
      "937 : Percentage covrage :0.997 , Left Cases: 3461\n",
      "957 : Percentage covrage :0.997 , Left Cases: 3177\n",
      "977 : Percentage covrage :0.998 , Left Cases: 2935\n",
      "997 : Percentage covrage :0.998 , Left Cases: 2708\n",
      "1017 : Percentage covrage :0.998 , Left Cases: 2480\n",
      "1037 : Percentage covrage :0.998 , Left Cases: 2269\n",
      "1057 : Percentage covrage :0.998 , Left Cases: 2087\n",
      "1077 : Percentage covrage :0.998 , Left Cases: 1952\n",
      "1097 : Percentage covrage :0.999 , Left Cases: 1809\n",
      "1118 : Percentage covrage :0.999 , Left Cases: 1660\n",
      "1138 : Percentage covrage :0.999 , Left Cases: 1529\n",
      "1158 : Percentage covrage :0.999 , Left Cases: 1420\n",
      "1179 : Percentage covrage :0.999 , Left Cases: 1320\n",
      "1199 : Percentage covrage :0.999 , Left Cases: 1229\n",
      "1219 : Percentage covrage :0.999 , Left Cases: 1134\n",
      "1239 : Percentage covrage :0.999 , Left Cases: 1058\n",
      "1259 : Percentage covrage :0.999 , Left Cases: 996\n",
      "1280 : Percentage covrage :0.999 , Left Cases: 946\n",
      "1303 : Percentage covrage :0.999 , Left Cases: 886\n",
      "1327 : Percentage covrage :0.999 , Left Cases: 825\n",
      "1349 : Percentage covrage :0.999 , Left Cases: 765\n",
      "1372 : Percentage covrage :0.999 , Left Cases: 720\n",
      "1395 : Percentage covrage :0.999 , Left Cases: 677\n",
      "1418 : Percentage covrage :0.999 , Left Cases: 624\n",
      "1445 : Percentage covrage :1.0 , Left Cases: 574\n",
      "1469 : Percentage covrage :1.0 , Left Cases: 530\n",
      "1501 : Percentage covrage :1.0 , Left Cases: 476\n",
      "1532 : Percentage covrage :1.0 , Left Cases: 440\n",
      "1570 : Percentage covrage :1.0 , Left Cases: 405\n",
      "1603 : Percentage covrage :1.0 , Left Cases: 370\n",
      "1637 : Percentage covrage :1.0 , Left Cases: 339\n",
      "1677 : Percentage covrage :1.0 , Left Cases: 304\n",
      "1713 : Percentage covrage :1.0 , Left Cases: 275\n",
      "1764 : Percentage covrage :1.0 , Left Cases: 249\n",
      "1811 : Percentage covrage :1.0 , Left Cases: 223\n",
      "1870 : Percentage covrage :1.0 , Left Cases: 195\n",
      "1954 : Percentage covrage :1.0 , Left Cases: 171\n",
      "2000 : Percentage covrage :1.0 , Left Cases: 146\n",
      "2116 : Percentage covrage :1.0 , Left Cases: 121\n",
      "2315 : Percentage covrage :1.0 , Left Cases: 97\n",
      "2580 : Percentage covrage :1.0 , Left Cases: 69\n",
      "3070 : Percentage covrage :1.0 , Left Cases: 41\n",
      "3995 : Percentage covrage :1.0 , Left Cases: 15\n"
     ]
    }
   ],
   "source": [
    "for x in range(0,1773,20):\n",
    "    print(uniq_para[x],end=' : ')\n",
    "    print(f\"Percentage covrage :{round(np.sum(count[:x])/1247518 ,3)} , Left Cases: {1247518 - np.sum(count[:x])}\")"
   ]
  },
  {
   "cell_type": "code",
   "execution_count": 101,
   "id": "ea1bc91c-2cf3-4b7e-8bf6-dcb6338deabe",
   "metadata": {},
   "outputs": [
    {
     "data": {
      "text/plain": [
       "<AxesSubplot: ylabel='Count'>"
      ]
     },
     "execution_count": 101,
     "metadata": {},
     "output_type": "execute_result"
    },
    {
     "data": {
      "image/png": "[encoded data removed]",
      "text/plain": [
       "<Figure size 640x480 with 1 Axes>"
      ]
     },
     "metadata": {},
     "output_type": "display_data"
    }
   ],
   "source": [
    "para_lengths_word = np.array(para_lengths_word)"
   ]
  },
  {
   "cell_type": "code",
   "execution_count": 102,
   "id": "883bc682-f93f-4ae8-8864-f78ef9271914",
   "metadata": {},
   "outputs": [
    {
     "data": {
      "text/plain": [
       "<AxesSubplot: ylabel='Count'>"
      ]
     },
     "execution_count": 102,
     "metadata": {},
     "output_type": "execute_result"
    },
    {
     "data": {
      "image/png": "[encoded data removed]",
      "text/plain": [
       "<Figure size 640x480 with 1 Axes>"
      ]
     },
     "metadata": {},
     "output_type": "display_data"
    }
   ],
   "source": [
    "sns.histplot(para_lengths_word[para_lengths_word< 100])"
   ]
  },
  {
   "cell_type": "code",
   "execution_count": 103,
   "id": "3d3abb56-c1b7-423d-9935-5dfe77f4f02c",
   "metadata": {},
   "outputs": [
    {
     "data": {
      "text/plain": [
       "<networkx.classes.graph.Graph at 0x14f6b737df40>"
      ]
     },
     "execution_count": 103,
     "metadata": {},
     "output_type": "execute_result"
    }
   ],
   "source": [
    "graph"
   ]
  },
  {
   "cell_type": "code",
   "execution_count": 104,
   "id": "eca68ac7-f64c-4ba2-8db2-53ab344f5861",
   "metadata": {},
   "outputs": [
    {
     "data": {
      "text/plain": [
       "['698529',\n",
       " '1711825',\n",
       " '600678',\n",
       " '960409',\n",
       " '1819027',\n",
       " '1667953',\n",
       " '1612124',\n",
       " '40736',\n",
       " '1461070',\n",
       " '1728300']"
      ]
     },
     "execution_count": 104,
     "metadata": {},
     "output_type": "execute_result"
    }
   ],
   "source": [
    "list(jud_list)[:10]"
   ]
  },
  {
   "cell_type": "code",
   "execution_count": 107,
   "id": "906dba21-ef40-4490-bdab-8b561c7e65d8",
   "metadata": {},
   "outputs": [
    {
     "name": "stdout",
     "output_type": "stream",
     "text": [
      "698529 1711825 <class 'str'>\n"
     ]
    }
   ],
   "source": [
    "from itertools import combinations\n",
    "  \n",
    "comb = combinations(jud_list, 2)\n",
    "for a,b in comb:\n",
    "    print(a,b,type(a))\n",
    "    break"
   ]
  },
  {
   "cell_type": "code",
   "execution_count": null,
   "id": "a8285fec-2c38-44b0-a2cd-88d6c5185e35",
   "metadata": {},
   "outputs": [],
   "source": []
  }
 ],
 "metadata": {
  "kernelspec": {
   "display_name": "Python 3 (ipykernel)",
   "language": "python",
   "name": "python3"
  },
  "language_info": {
   "codemirror_mode": {
    "name": "ipython",
    "version": 3
   },
   "file_extension": ".py",
   "mimetype": "text/x-python",
   "name": "python",
   "nbconvert_exporter": "python",
   "pygments_lexer": "ipython3",
   "version": "3.9.16"
  }
 },
 "nbformat": 4,
 "nbformat_minor": 5
}
