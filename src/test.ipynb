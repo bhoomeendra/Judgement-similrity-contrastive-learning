{
 "cells": [
  {
   "cell_type": "code",
   "execution_count": 1,
   "id": "c7b542f5-b870-4edf-9e36-49fd14788ab8",
   "metadata": {},
   "outputs": [],
   "source": [
    "from model.model import Transformer_Model\n",
    "from model.dataset import JudgementDataset\n",
    "from tqdm import tqdm\n",
    "from torch.utils.data import DataLoader\n",
    "\n",
    "import torch\n",
    "import yaml\n",
    "\n",
    "def pad_batch(x):\n",
    "    # X is a list of datapoints what we get from Judgement Dataset\n",
    "    # Size of the list is equal to batch size\n",
    "    return x\n",
    "\n",
    "def train(config):\n",
    "    # Which model\n",
    "    # Model config\n",
    "    # Traning parameters \n",
    "    # Learning rate , loss , learning rate schedular , optimizer , batch size , number of epochs\n",
    "    # Early stopping and checkpointing\n",
    "    # Logging\n",
    "    # Define collate function in the dataloader \n",
    "    train_dataset = JudgementDataset(config=config['dataset'],which='train')\n",
    "    # ipdb.set_trace()\n",
    "    train_dataloader = DataLoader(dataset=train_dataset,batch_size=1,shuffle=False,collate_fn=pad_batch)\n",
    "    # how to get data from dataloader\n",
    "    print(next(iter(train_dataloader)))"
   ]
  },
  {
   "cell_type": "code",
   "execution_count": 2,
   "id": "cabec0cc-2590-43f8-bc7c-6ecf9ff43c33",
   "metadata": {},
   "outputs": [],
   "source": [
    "config = yaml.safe_load(open('train/train_config.yaml','r'))"
   ]
  },
  {
   "cell_type": "code",
   "execution_count": 3,
   "id": "1d50e9bd-f5be-4b10-a32e-59014f2401bd",
   "metadata": {},
   "outputs": [
    {
     "data": {
      "text/plain": [
       "{'dataset': {'embedding': 'InLegalBERT_emb_new.pkl'},\n",
       " 'model': {'nhead': 2,\n",
       "  'in_features': 768,\n",
       "  'out_features': 768,\n",
       "  'activation': 'relu',\n",
       "  'num_encoder_layers': 2,\n",
       "  'batch_size': 4},\n",
       " 'train': {'lr': 0.0001, 'batch_size': 64, 'epochs': 20}}"
      ]
     },
     "execution_count": 3,
     "metadata": {},
     "output_type": "execute_result"
    }
   ],
   "source": [
    "config"
   ]
  },
  {
   "cell_type": "code",
   "execution_count": 6,
   "id": "b3609b99-a8d3-49bf-b73d-ad6a2925314c",
   "metadata": {},
   "outputs": [],
   "source": [
    "import pickle\n",
    "embedding = pickle.load(open(f\"../data/processed/{config['dataset']['embedding']}\",'rb'))"
   ]
  },
  {
   "cell_type": "code",
   "execution_count": 8,
   "id": "690d6bc1-feb7-4ebd-b4ab-716938a8fc2c",
   "metadata": {},
   "outputs": [],
   "source": [
    "keys = list(embedding.keys())"
   ]
  },
  {
   "cell_type": "code",
   "execution_count": 9,
   "id": "fcbef63a-0a85-4035-aa8a-cbfccf624b48",
   "metadata": {},
   "outputs": [
    {
     "data": {
      "text/plain": [
       "'1346161'"
      ]
     },
     "execution_count": 9,
     "metadata": {},
     "output_type": "execute_result"
    }
   ],
   "source": [
    "keys[0]"
   ]
  },
  {
   "cell_type": "code",
   "execution_count": 12,
   "id": "6af9c8d6-08cb-4f20-a344-ba3f08c620f7",
   "metadata": {},
   "outputs": [],
   "source": [
    "num_paras = []\n",
    "for key,val in embedding.items():\n",
    "    num_paras.append(val.shape[0])"
   ]
  },
  {
   "cell_type": "code",
   "execution_count": 13,
   "id": "8317c1fd-90fe-4e12-a878-61ad1f0ac7eb",
   "metadata": {},
   "outputs": [],
   "source": [
    "import numpy as np\n",
    "v = np.unique(num_paras,return_counts=True)"
   ]
  },
  {
   "cell_type": "code",
   "execution_count": 46,
   "id": "1b5e5055-1cd7-4ca7-8205-33af34c4bac0",
   "metadata": {},
   "outputs": [
    {
     "data": {
      "text/plain": [
       "51"
      ]
     },
     "execution_count": 46,
     "metadata": {},
     "output_type": "execute_result"
    }
   ],
   "source": [
    "v[0][50]"
   ]
  },
  {
   "cell_type": "code",
   "execution_count": 35,
   "id": "1ef35c53-913e-49ff-8cf4-2b594440877d",
   "metadata": {},
   "outputs": [
    {
     "data": {
      "text/plain": [
       "0.9670999440263698"
      ]
     },
     "execution_count": 35,
     "metadata": {},
     "output_type": "execute_result"
    }
   ],
   "source": [
    "f = 100\n",
    "total = np.sum(v[1])\n",
    "np.sum(v[1][f:])/total * 100"
   ]
  },
  {
   "cell_type": "code",
   "execution_count": 47,
   "id": "5b343a59-0f17-4a8e-bc89-66eba8831b80",
   "metadata": {},
   "outputs": [
    {
     "ename": "IndexError",
     "evalue": "tuple index out of range",
     "output_type": "error",
     "traceback": [
      "\u001b[0;31m---------------------------------------------------------------------------\u001b[0m",
      "\u001b[0;31mIndexError\u001b[0m                                Traceback (most recent call last)",
      "Cell \u001b[0;32mIn[47], line 1\u001b[0m\n\u001b[0;32m----> 1\u001b[0m \u001b[43mv\u001b[49m\u001b[43m[\u001b[49m\u001b[38;5;241;43m50\u001b[39;49m\u001b[43m]\u001b[49m\n",
      "\u001b[0;31mIndexError\u001b[0m: tuple index out of range"
     ]
    }
   ],
   "source": [
    "v[50]"
   ]
  },
  {
   "cell_type": "code",
   "execution_count": null,
   "id": "c8cd16bb-2f54-45d4-a89b-0c2b950d1b53",
   "metadata": {},
   "outputs": [],
   "source": []
  }
 ],
 "metadata": {
  "kernelspec": {
   "display_name": "Python 3 (ipykernel)",
   "language": "python",
   "name": "python3"
  },
  "language_info": {
   "codemirror_mode": {
    "name": "ipython",
    "version": 3
   },
   "file_extension": ".py",
   "mimetype": "text/x-python",
   "name": "python",
   "nbconvert_exporter": "python",
   "pygments_lexer": "ipython3",
   "version": "3.9.16"
  }
 },
 "nbformat": 4,
 "nbformat_minor": 5
}
